{
 "cells": [
  {
   "cell_type": "markdown",
   "id": "c5e21617",
   "metadata": {},
   "source": [
    "## Day-14 of #30daysofpython"
   ]
  },
  {
   "cell_type": "markdown",
   "id": "797ce8e4",
   "metadata": {},
   "source": [
    "## Topic: String Datatype Part-2\n",
    "* Changing Case of a String\n",
    "    * upper()\n",
    "    * lower()\n",
    "    * swapcase()\n",
    "    * title()\n",
    "    * capitalize()\n",
    "* Checking Starting and Ending Part of the String\n",
    "    * startswith()\n",
    "    * endswith()\n",
    "* Checking Type of Characters Present in a String\n",
    "    * isalnum()\n",
    "    * isalpha()\n",
    "    * isdigit()\n",
    "    * islower()\n",
    "    * isupper()\n",
    "    * istitle()\n",
    "    * isspace()\n",
    "* Converting cases of a string\n",
    "    * upper()\n",
    "    * lower()\n",
    "    * title()\n",
    "    * capitalize()\n",
    "    "
   ]
  },
  {
   "cell_type": "markdown",
   "id": "faffcda2",
   "metadata": {},
   "source": [
    "## Changing Case of a String"
   ]
  },
  {
   "cell_type": "markdown",
   "id": "f16f0290",
   "metadata": {},
   "source": [
    "### Example"
   ]
  },
  {
   "cell_type": "code",
   "execution_count": 1,
   "id": "99c06abf",
   "metadata": {},
   "outputs": [
    {
     "name": "stdout",
     "output_type": "stream",
     "text": [
      "HI, MY NAME IS OLUWASEUN\n",
      "hi, my name is oluwaseun\n",
      "hI, MY NAME IS oLUWASEUN\n",
      "Hi, My Name Is Oluwaseun\n",
      "Hi, my name is oluwaseun\n"
     ]
    }
   ],
   "source": [
    "a = 'Hi, my name is Oluwaseun'\n",
    "print(a.upper())\n",
    "print(a.lower())\n",
    "print(a.swapcase())\n",
    "print(a.title())\n",
    "print(a.capitalize()) "
   ]
  },
  {
   "cell_type": "markdown",
   "id": "ab93967e",
   "metadata": {},
   "source": [
    "## Checking Starting and Ending Part of the String"
   ]
  },
  {
   "cell_type": "markdown",
   "id": "e7e1b3b8",
   "metadata": {},
   "source": [
    "* It returns boolean values"
   ]
  },
  {
   "cell_type": "code",
   "execution_count": 2,
   "id": "3caf7f58",
   "metadata": {},
   "outputs": [
    {
     "name": "stdout",
     "output_type": "stream",
     "text": [
      "True\n",
      "True\n",
      "False\n"
     ]
    }
   ],
   "source": [
    "a = 'How are you Oluwaseun?'\n",
    "print(a.startswith('How'))\n",
    "print(a.endswith('Oluwaseun?'))\n",
    "print(a.endswith('Hello')) "
   ]
  },
  {
   "cell_type": "markdown",
   "id": "598a39cf",
   "metadata": {},
   "source": [
    "## Checking Type of Characters Present in a String"
   ]
  },
  {
   "cell_type": "markdown",
   "id": "c4448366",
   "metadata": {},
   "source": [
    "### This returns boolean values.\n",
    "* isalnum(): Returns True if all characters are alphanumeric( a to z , A to Z ,0 to9 )\n",
    "* isalpha(): Returns True if all characters are only alphabet symbols(a to z,A to Z)\n",
    "* isdigit(): Returns True if all characters are digits only( 0 to 9)\n",
    "* islower(): Returns True if all characters are lower case alphabet symbols\n",
    "* isupper(): Returns True if all characters are upper case aplhabet symbols\n",
    "* istitle(): Returns True if string is in title case\n",
    "* isspace(): Returns True if string contains only spaces\n"
   ]
  },
  {
   "cell_type": "code",
   "execution_count": 3,
   "id": "7d8657df",
   "metadata": {},
   "outputs": [
    {
     "name": "stdout",
     "output_type": "stream",
     "text": [
      "True\n",
      "False\n",
      "True\n",
      "False\n",
      "True\n",
      "False\n",
      "False\n",
      "False\n",
      "True\n",
      "True\n"
     ]
    }
   ],
   "source": [
    "print('Oluwaseun99'.isalnum())\n",
    "print('Oluwaseun99'.isalpha())\n",
    "print('Oluwaseun'.isalpha())\n",
    "print('Oluwaseun'.isdigit())\n",
    "print('987654321'.isdigit())\n",
    "print('Oluwaseun'.islower())\n",
    "print('Oluwaseun'.islower())\n",
    "print('Oluwaseun99'.islower())\n",
    "print('Hi I Am Oluwaseun'.istitle())\n",
    "print(' '.isspace())"
   ]
  },
  {
   "cell_type": "markdown",
   "id": "f0042fa1",
   "metadata": {},
   "source": [
    "## Converting cases of a string"
   ]
  },
  {
   "cell_type": "code",
   "execution_count": 4,
   "id": "22a2a721",
   "metadata": {},
   "outputs": [
    {
     "name": "stdout",
     "output_type": "stream",
     "text": [
      "HI I AM OLUWASEUN\n",
      "hi i am oluwaseun\n",
      "Hi I Am Oluwaseun\n",
      "Hi i am oluwaseun\n"
     ]
    }
   ],
   "source": [
    "string = 'Hi I am Oluwaseun'\n",
    "print(string.upper())\n",
    "print(string.lower())\n",
    "print(string.title())\n",
    "print(string.capitalize())"
   ]
  },
  {
   "cell_type": "markdown",
   "id": "17cb3c5b",
   "metadata": {},
   "source": [
    "## Counting of Strings\n",
    "* Returns number of occurences of substring from entire string"
   ]
  },
  {
   "cell_type": "code",
   "execution_count": 5,
   "id": "e77bf1c0",
   "metadata": {},
   "outputs": [
    {
     "data": {
      "text/plain": [
       "2"
      ]
     },
     "execution_count": 5,
     "metadata": {},
     "output_type": "execute_result"
    }
   ],
   "source": [
    "string = 'Hello world, Hello Oluwaseun'\n",
    "string.count('Hello')\n"
   ]
  },
  {
   "cell_type": "code",
   "execution_count": 6,
   "id": "90d72a0f",
   "metadata": {},
   "outputs": [
    {
     "data": {
      "text/plain": [
       "3"
      ]
     },
     "execution_count": 6,
     "metadata": {},
     "output_type": "execute_result"
    }
   ],
   "source": [
    "string = 'Hello world, Hello Oluwaseun, what the Hell?'\n",
    "string.count('Hell')"
   ]
  }
 ],
 "metadata": {
  "interpreter": {
   "hash": "df95319d8ce4e1d89f5365ae10992bc1f65da593082b1d264e8f529830ec2f02"
  },
  "kernelspec": {
   "display_name": "Python 3.10.1 64-bit",
   "language": "python",
   "name": "python3"
  },
  "language_info": {
   "codemirror_mode": {
    "name": "ipython",
    "version": 3
   },
   "file_extension": ".py",
   "mimetype": "text/x-python",
   "name": "python",
   "nbconvert_exporter": "python",
   "pygments_lexer": "ipython3",
   "version": "3.10.1"
  }
 },
 "nbformat": 4,
 "nbformat_minor": 5
}
