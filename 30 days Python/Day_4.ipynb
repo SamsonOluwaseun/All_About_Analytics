{
 "cells": [
  {
   "cell_type": "markdown",
   "metadata": {},
   "source": [
    "# Day-4 of #DaysofPython\n",
    "\n",
    "### Topic: Input Statements\n",
    "input( )\n",
    "Reading multiple values from user\n",
    "\n",
    "Shortcut to read multiple values in a single line\n",
    "eval() function\n",
    "\n",
    "\n",
    "input( ) is a function that takes input from a user."
   ]
  },
  {
   "cell_type": "code",
   "execution_count": 2,
   "metadata": {},
   "outputs": [
    {
     "name": "stdout",
     "output_type": "stream",
     "text": [
      "Love\n",
      "<class 'str'>\n"
     ]
    }
   ],
   "source": [
    "a = input(\"Enter a word : \")\n",
    "print(a)\n",
    "print(type(a))"
   ]
  },
  {
   "cell_type": "code",
   "execution_count": 3,
   "metadata": {},
   "outputs": [
    {
     "name": "stdout",
     "output_type": "stream",
     "text": [
      "4\n",
      "<class 'str'>\n"
     ]
    }
   ],
   "source": [
    "a = input('Enter a number : ')\n",
    "print(a)\n",
    "print(type(a))"
   ]
  },
  {
   "cell_type": "code",
   "execution_count": 6,
   "metadata": {},
   "outputs": [
    {
     "name": "stdout",
     "output_type": "stream",
     "text": [
      "23.698\n",
      "<class 'str'>\n"
     ]
    }
   ],
   "source": [
    "a = input(\"Enter a float number : \")\n",
    "print(a)\n",
    "print(type(a))\n"
   ]
  },
  {
   "cell_type": "code",
   "execution_count": 7,
   "metadata": {},
   "outputs": [
    {
     "name": "stdout",
     "output_type": "stream",
     "text": [
      "True\n",
      "<class 'str'>\n"
     ]
    }
   ],
   "source": [
    "a = input(\"Enter a bool value : \")\n",
    "print(a)\n",
    "print(type(a))"
   ]
  },
  {
   "cell_type": "markdown",
   "metadata": {},
   "source": [
    "As seen in above examples input( ) function by default gives 'str' datatype.\n",
    "\n",
    "So, we need to typecast into required datatype."
   ]
  },
  {
   "cell_type": "code",
   "execution_count": 8,
   "metadata": {},
   "outputs": [
    {
     "name": "stdout",
     "output_type": "stream",
     "text": [
      "99\n",
      "<class 'int'>\n"
     ]
    }
   ],
   "source": [
    "a = int(input(\"Enter a number : \"))\n",
    "print(a)\n",
    "print(type(a))"
   ]
  },
  {
   "cell_type": "code",
   "execution_count": 9,
   "metadata": {},
   "outputs": [
    {
     "name": "stdout",
     "output_type": "stream",
     "text": [
      "55.665\n",
      "<class 'float'>\n"
     ]
    }
   ],
   "source": [
    "a = float(input(\"Enter a float value : \"))\n",
    "print(a)\n",
    "print(type(a))"
   ]
  },
  {
   "cell_type": "code",
   "execution_count": 10,
   "metadata": {},
   "outputs": [
    {
     "name": "stdout",
     "output_type": "stream",
     "text": [
      "True\n",
      "<class 'bool'>\n"
     ]
    }
   ],
   "source": [
    "a = bool(input(\"Enter a bool value : \"))\n",
    "print(a)\n",
    "print(type(a))"
   ]
  },
  {
   "cell_type": "markdown",
   "metadata": {},
   "source": [
    "Q) Program to read employee data from user and print the data."
   ]
  },
  {
   "cell_type": "code",
   "execution_count": 11,
   "metadata": {},
   "outputs": [
    {
     "name": "stdout",
     "output_type": "stream",
     "text": [
      "\n",
      "Name :  Seun\n",
      "Age :  33\n",
      "Occupation :  Data Scientist\n",
      "Is married? :  True\n",
      "Salary :  5000000.0\n"
     ]
    }
   ],
   "source": [
    "a = input(\"Enter the name : \")\n",
    "b = int(input(\"Enter the age : \"))\n",
    "c = input(\"Enter the occupation : \")\n",
    "d = bool(input(\"Is married?[True / False] : \" ))\n",
    "e = float(input(\"Expected salary as a fresher : \"))\n",
    "print()\n",
    "print('Name : ',a)\n",
    "print('Age : ',b)\n",
    "print('Occupation : ',c)\n",
    "print('Is married? : ',d)\n",
    "print('Salary : ',e)"
   ]
  },
  {
   "cell_type": "markdown",
   "metadata": {},
   "source": [
    "Shortcut to read multiple inputs in a single line"
   ]
  },
  {
   "cell_type": "code",
   "execution_count": 12,
   "metadata": {},
   "outputs": [
    {
     "data": {
      "text/plain": [
       "'10  20'"
      ]
     },
     "execution_count": 12,
     "metadata": {},
     "output_type": "execute_result"
    }
   ],
   "source": [
    "a = input(\"Enter two numbers : \")\n",
    "a"
   ]
  },
  {
   "cell_type": "markdown",
   "metadata": {},
   "source": [
    "From the above example even if we give 2 inputs it returns as single string\n",
    "\n",
    "Examples of giving inputs in a single line"
   ]
  },
  {
   "cell_type": "code",
   "execution_count": 18,
   "metadata": {},
   "outputs": [
    {
     "name": "stdout",
     "output_type": "stream",
     "text": [
      "The sum of a,b,c is :  18\n"
     ]
    }
   ],
   "source": [
    "a,b,c = [int(x) for x in input(\"Enter 3 numbers (Separate with ,) : \").split(',')]\n",
    "print(\"The sum of a,b,c is : \",a+b+c)"
   ]
  },
  {
   "cell_type": "code",
   "execution_count": 16,
   "metadata": {},
   "outputs": [
    {
     "name": "stdout",
     "output_type": "stream",
     "text": [
      "The sum of a,b,c is :  18.0\n"
     ]
    }
   ],
   "source": [
    "a,b,c = [float(x) for x in input(\"Enter 3 numbers : \").split(',')]\n",
    "print(\"The sum of a,b,c is : \",a+b+c)"
   ]
  },
  {
   "cell_type": "code",
   "execution_count": 42,
   "metadata": {},
   "outputs": [
    {
     "name": "stdout",
     "output_type": "stream",
     "text": [
      "The product of a,b,c,d is :  384\n"
     ]
    }
   ],
   "source": [
    "a,b,c,d = [int(x) for x in input(\"Enter 4 numbers : \").split(',')]\n",
    "print(\"The product of a,b,c,d is : \",a*b*c*d)"
   ]
  }
 ],
 "metadata": {
  "interpreter": {
   "hash": "cfcfbbd76e88e95dc35e2ca9edf0c1e882d0553cc29bc4cac8c0f4eabeb0ecb9"
  },
  "kernelspec": {
   "display_name": "Python 3.10.1 64-bit",
   "language": "python",
   "name": "python3"
  },
  "language_info": {
   "codemirror_mode": {
    "name": "ipython",
    "version": 3
   },
   "file_extension": ".py",
   "mimetype": "text/x-python",
   "name": "python",
   "nbconvert_exporter": "python",
   "pygments_lexer": "ipython3",
   "version": "3.10.1"
  },
  "orig_nbformat": 4
 },
 "nbformat": 4,
 "nbformat_minor": 2
}
