{
 "cells": [
  {
   "cell_type": "markdown",
   "metadata": {},
   "source": [
    "# Day-7 of # DaysofPython\n",
    "## Topic: Flow Control - 2\n",
    "Iterative Statements\n",
    "\n",
    "- for loop\n",
    "- while loop"
   ]
  },
  {
   "cell_type": "markdown",
   "metadata": {},
   "source": [
    "## for loop\n",
    "To perform activity for every element\n",
    "Syntax:<br>\n",
    "\n",
    "'''   for x in sequence: <br>\n",
    "               Action             '''<br>"
   ]
  },
  {
   "cell_type": "code",
   "execution_count": 6,
   "metadata": {},
   "outputs": [
    {
     "name": "stdout",
     "output_type": "stream",
     "text": [
      "O\n",
      "l\n",
      "u\n",
      "w\n",
      "a\n",
      "s\n",
      "e\n",
      "u\n",
      "n\n"
     ]
    }
   ],
   "source": [
    "a = 'Oluwaseun'\n",
    "for i in a:          # 'i' means every element in a. \n",
    "    print(i) "
   ]
  },
  {
   "cell_type": "code",
   "execution_count": 7,
   "metadata": {},
   "outputs": [
    {
     "name": "stdout",
     "output_type": "stream",
     "text": [
      "Oluwaseun"
     ]
    }
   ],
   "source": [
    "for word in a:         \n",
    "    print(word,end = '')  #end attribute is used to print in a single line"
   ]
  },
  {
   "cell_type": "markdown",
   "metadata": {},
   "source": [
    "Q. To print a word along with its index"
   ]
  },
  {
   "cell_type": "code",
   "execution_count": 8,
   "metadata": {},
   "outputs": [
    {
     "name": "stdout",
     "output_type": "stream",
     "text": [
      "For '0' index character is 'O' \n",
      "For '1' index character is 'l' \n",
      "For '2' index character is 'u' \n",
      "For '3' index character is 'w' \n",
      "For '4' index character is 'a' \n",
      "For '5' index character is 's' \n",
      "For '6' index character is 'e' \n",
      "For '7' index character is 'u' \n",
      "For '8' index character is 'n' \n"
     ]
    }
   ],
   "source": [
    "a = 'Oluwaseun'\n",
    "x = 0\n",
    "for i in a:\n",
    "    print(\"For '{}' index character is '{}' \".format(x,a[x]))\n",
    "    x += 1"
   ]
  },
  {
   "cell_type": "code",
   "execution_count": 3,
   "metadata": {},
   "outputs": [
    {
     "name": "stdout",
     "output_type": "stream",
     "text": [
      "0 1 2 3 4 5 6 7 8 9 "
     ]
    }
   ],
   "source": [
    "#Program to print numbers in range of 1 and 10 using for loop.\n",
    "for i in range(0,10):\n",
    "    print(i,end = ' ')"
   ]
  },
  {
   "cell_type": "code",
   "execution_count": 5,
   "metadata": {},
   "outputs": [
    {
     "name": "stdout",
     "output_type": "stream",
     "text": [
      "0 2 4 6 8 10 12 14 16 18 20 "
     ]
    }
   ],
   "source": [
    "#Program to print even numbers in between 0 and 20\n",
    "for i in range(0,21):\n",
    "    if i%2==0:\n",
    "        print(i,end=' ')"
   ]
  },
  {
   "cell_type": "code",
   "execution_count": 6,
   "metadata": {},
   "outputs": [
    {
     "name": "stdout",
     "output_type": "stream",
     "text": [
      "0 2 4 6 8 10 12 14 16 18 20 "
     ]
    }
   ],
   "source": [
    "for i in range(0,21,2):\n",
    "    print(i,end = ' ')"
   ]
  },
  {
   "cell_type": "code",
   "execution_count": 8,
   "metadata": {},
   "outputs": [
    {
     "name": "stdout",
     "output_type": "stream",
     "text": [
      "1 3 5 7 9 11 13 15 17 19 "
     ]
    }
   ],
   "source": [
    "#Program to print odd numbers in between 0 and 20\n",
    "for i in range(0,21):\n",
    "    if i%2==1:\n",
    "        print(i, end=' ')"
   ]
  },
  {
   "cell_type": "code",
   "execution_count": 11,
   "metadata": {},
   "outputs": [
    {
     "name": "stdout",
     "output_type": "stream",
     "text": [
      "The sum of numbers is :  28\n"
     ]
    }
   ],
   "source": [
    "#Program to print sum of numbers in a give list\n",
    "a = eval(input(\"Enter a list of numbers (separate with commas) : \"))\n",
    "sum = 0\n",
    "for i in a:\n",
    "    sum += i\n",
    "print(\"The sum of numbers is : \",sum)"
   ]
  },
  {
   "cell_type": "markdown",
   "metadata": {},
   "source": [
    "## while loop\n",
    "In Python, this loop executes a group of statements given the set conditions are satisfied.\n",
    "It is important you initialize the condition and update accordingling to avoid infinity loop.\n",
    "Syntax:\n",
    "'''     while (condition):\n",
    "                Action      '''"
   ]
  },
  {
   "cell_type": "code",
   "execution_count": 13,
   "metadata": {},
   "outputs": [
    {
     "name": "stdout",
     "output_type": "stream",
     "text": [
      "Hello Hello Hello Hello "
     ]
    }
   ],
   "source": [
    "#Examples\n",
    "# Printing 'Hello' 4 times using while loop\n",
    "i = 1\n",
    "while i<=4:\n",
    "    print(\"Hello\", end=' ')\n",
    "    i += 1"
   ]
  },
  {
   "cell_type": "code",
   "execution_count": 14,
   "metadata": {},
   "outputs": [
    {
     "name": "stdout",
     "output_type": "stream",
     "text": [
      "1 2 3 4 5 6 7 8 9 10 "
     ]
    }
   ],
   "source": [
    "# Printing numbers from 1 to 10\n",
    "i = 1\n",
    "while i<= 10:\n",
    "    print(i,end=' ')\n",
    "    i += 1"
   ]
  },
  {
   "cell_type": "code",
   "execution_count": 25,
   "metadata": {},
   "outputs": [
    {
     "name": "stdout",
     "output_type": "stream",
     "text": [
      "3 6 9 12 15 18 "
     ]
    }
   ],
   "source": [
    "# Printing numbers divisible by '3' betwween 1 to 20\n",
    "i=1\n",
    "while i< 21:\n",
    "    if i%3==0:\n",
    "        print(i,end=' ')\n",
    "    i+=1"
   ]
  },
  {
   "cell_type": "code",
   "execution_count": 28,
   "metadata": {},
   "outputs": [
    {
     "name": "stdout",
     "output_type": "stream",
     "text": [
      "Enter a number :  4\n",
      "The sum is :  10\n"
     ]
    }
   ],
   "source": [
    "#Add series of numbers less than and equal to a given number using While loop\n",
    "n = int(input(\"Enter a number: \"))\n",
    "sum = 0\n",
    "i = 1\n",
    "while i<=n:\n",
    "    sum += i\n",
    "    i += 1\n",
    "print(\"Enter a number : \",n)\n",
    "print(\"The sum is : \",sum)\n"
   ]
  },
  {
   "cell_type": "markdown",
   "metadata": {},
   "source": [
    "## Nested Loops\n",
    "In Python, a loop inside a loop is known as a nested loop"
   ]
  },
  {
   "cell_type": "code",
   "execution_count": 29,
   "metadata": {},
   "outputs": [
    {
     "name": "stdout",
     "output_type": "stream",
     "text": [
      "Hello Oluwaseun Hello Oluwaseun Hello Oluwaseun Hello Oluwaseun Hello Oluwaseun Hello Oluwaseun "
     ]
    }
   ],
   "source": [
    "# Example\n",
    "for i in range(3):\n",
    "    for j in range(2):\n",
    "        print(\"Hello Oluwaseun\", end=' ')"
   ]
  }
 ],
 "metadata": {
  "interpreter": {
   "hash": "cfcfbbd76e88e95dc35e2ca9edf0c1e882d0553cc29bc4cac8c0f4eabeb0ecb9"
  },
  "kernelspec": {
   "display_name": "Python 3.10.1 64-bit",
   "language": "python",
   "name": "python3"
  },
  "language_info": {
   "codemirror_mode": {
    "name": "ipython",
    "version": 3
   },
   "file_extension": ".py",
   "mimetype": "text/x-python",
   "name": "python",
   "nbconvert_exporter": "python",
   "pygments_lexer": "ipython3",
   "version": "3.10.1"
  },
  "orig_nbformat": 4
 },
 "nbformat": 4,
 "nbformat_minor": 2
}
