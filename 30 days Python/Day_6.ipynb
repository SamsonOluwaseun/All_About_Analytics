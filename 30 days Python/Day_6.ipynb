{
 "cells": [
  {
   "cell_type": "markdown",
   "metadata": {},
   "source": [
    "# Day-6 of # DaysofPython\n",
    "\n",
    "## Topic: Flow Control - 1\n",
    "Selection Statements\n",
    "\n",
    "if\n",
    "\n",
    "if - elif\n",
    "\n",
    "if - elif - else\n",
    "\n",
    "The order in which the statements are executed at run time is decided by Flow Control.\n",
    "\n",
    "if statement\n",
    "In [ ]:\n",
    "\n",
    "'''Syntax:\n",
    "\n",
    "if (condition):\n",
    "    statement 1\n",
    "    statement 2'\n",
    "''"
   ]
  },
  {
   "cell_type": "code",
   "execution_count": 10,
   "metadata": {},
   "outputs": [
    {
     "name": "stdout",
     "output_type": "stream",
     "text": [
      "Hello "
     ]
    }
   ],
   "source": [
    "a = input(\"Enter a name : \")\n",
    "if a == 'Seun':\n",
    "    print(\"Hello\",end=' ')"
   ]
  },
  {
   "cell_type": "markdown",
   "metadata": {},
   "source": [
    "## if - else\n",
    "In [ ]:\n",
    "'''Syntax:\n",
    "\n",
    "if (condition):\n",
    "\n",
    "    statement 1\n",
    "\n",
    "else:\n",
    "\n",
    "    statement 2'''\n",
    "\n"
   ]
  },
  {
   "cell_type": "code",
   "execution_count": 12,
   "metadata": {},
   "outputs": [
    {
     "name": "stdout",
     "output_type": "stream",
     "text": [
      "Hello Stranger!\n"
     ]
    }
   ],
   "source": [
    "#Example\n",
    "a = input(\"Enter a name : \")\n",
    "if a == 'Seun':\n",
    "    print(\"Hello {}!\".format(a))\n",
    "else:\n",
    "    print(\"Hello Stranger!\")"
   ]
  },
  {
   "cell_type": "markdown",
   "metadata": {},
   "source": [
    "## if - else - elif\n",
    "In [ ]:\n",
    "'''Syntax:\n",
    "\n",
    "if condition 1:\n",
    "\n",
    "    statement 1\n",
    "elif condition 2:\n",
    "\n",
    "    statement 2\n",
    "\n",
    "elif condition 3:\n",
    "\n",
    "    statement 3\n",
    "\n",
    "else:\n",
    "\n",
    "    statement 4'''\n",
    "    \n",
    "\n"
   ]
  },
  {
   "cell_type": "markdown",
   "metadata": {},
   "source": [
    "Q. Car Price based on brand"
   ]
  },
  {
   "cell_type": "code",
   "execution_count": 13,
   "metadata": {},
   "outputs": [
    {
     "name": "stdout",
     "output_type": "stream",
     "text": [
      "The cost of BMW car is 3 million Naira\n"
     ]
    }
   ],
   "source": [
    "brand = input(\"Enter a car brand : \").upper() #.upper() converts lower case to uppercase characters\n",
    "if brand == 'bmw'.upper():\n",
    "    print(\"The cost of {} car is 3 million Naira\".format(brand))\n",
    "elif brand == 'Lambhorgini'.upper():\n",
    "    print(\"The cost of {} car is 5 million Naira\".format(brand))\n",
    "elif brand == 'rollsroyce'.upper():\n",
    "    print(\"The cost of {} car is 8 million Naira\".format(brand))\n",
    "else:\n",
    "    print(\"Sorry! The car brand is not available\")\n",
    "    print(\"Pick up BMW, Lambhorgini, RollsRoyce\")"
   ]
  },
  {
   "cell_type": "markdown",
   "metadata": {},
   "source": [
    "Q. Program to find biggest of two numbers?"
   ]
  },
  {
   "cell_type": "code",
   "execution_count": 14,
   "metadata": {},
   "outputs": [
    {
     "name": "stdout",
     "output_type": "stream",
     "text": [
      "8 is bigger than 4\n"
     ]
    }
   ],
   "source": [
    "a = int(input(\"Enter 1st number : \"))\n",
    "b = int(input(\"Enter 2nd number : \"))\n",
    "if a>b:\n",
    "    print(\"{} is bigger than {}\".format(a,b))\n",
    "else:\n",
    "    print(\"{} is bigger than {}\".format(b,a))"
   ]
  },
  {
   "cell_type": "markdown",
   "metadata": {},
   "source": [
    "Q. Program to check whether given number is in between 1 & 100"
   ]
  },
  {
   "cell_type": "code",
   "execution_count": 8,
   "metadata": {},
   "outputs": [
    {
     "name": "stdout",
     "output_type": "stream",
     "text": [
      "108 is not in between 1 and 100\n"
     ]
    }
   ],
   "source": [
    "a = int(input(\"Enter 1st number : \"))\n",
    "if a in range(0,101):\n",
    "    print(\"{} is in between 1 and 100\".format(a))\n",
    "else:\n",
    "    print(\"{} is not in between 1 and 100\".format(a))"
   ]
  }
 ],
 "metadata": {
  "interpreter": {
   "hash": "cfcfbbd76e88e95dc35e2ca9edf0c1e882d0553cc29bc4cac8c0f4eabeb0ecb9"
  },
  "kernelspec": {
   "display_name": "Python 3.10.1 64-bit",
   "language": "python",
   "name": "python3"
  },
  "language_info": {
   "codemirror_mode": {
    "name": "ipython",
    "version": 3
   },
   "file_extension": ".py",
   "mimetype": "text/x-python",
   "name": "python",
   "nbconvert_exporter": "python",
   "pygments_lexer": "ipython3",
   "version": "3.10.1"
  },
  "orig_nbformat": 4
 },
 "nbformat": 4,
 "nbformat_minor": 2
}
