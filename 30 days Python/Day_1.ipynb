{
 "cells": [
  {
   "cell_type": "markdown",
   "source": [
    "# Day-1 of #30daysofPython\r\n"
   ],
   "metadata": {}
  },
  {
   "cell_type": "markdown",
   "source": [
    "## Introduction to python\r\n",
    "This is where we can add text\r\n",
    "\r\n",
    "We must designate this cell as a 'Markdown' cell.\r\n",
    "\r\n",
    "With a single hashtag we get a big section header.\r\n",
    "\r\n",
    "We can also add subsections.\r\n",
    "\r\n",
    "### Subsection\r\n",
    "\r\n",
    "It is convenient to communicate how your code works and what it is doing with markdown cells!\r\n",
    "\r\n",
    "You can also use LaTeX commands in-line with single dollar signs:  $\\int_0^\\infty f(x) dx$\r\n",
    "\r\n",
    "You can add LaTeX equations centered on their own lines with double dollar signs: $$\\sum_{i=1}^\\infty \\frac{1}{2^i}$$ "
   ],
   "metadata": {}
  },
  {
   "cell_type": "markdown",
   "source": [
    "# Shortcuts\r\n",
    "\r\n",
    "We can look at the existing keyboard shortcuts through the help menu, and we can make our own there\r\n",
    "\r\n",
    "The most important shortcuts are\r\n",
    "1. Shift + Enter\r\n",
    "2. Ctrl + Enter\r\n",
    "3. Alt + Enter\r\n",
    "4. Tab\r\n",
    "5. Shift + Tab"
   ],
   "metadata": {}
  },
  {
   "cell_type": "markdown",
   "source": [
    "### DATATYPES IN PYTHON\r\n",
    "What is a data type?<br>\r\n",
    "Data types are the classification or categorization of data items. Variables can hold values of different data types and different datatypes can do different things. The most important datatypes are Integer, float, string, Boolean\r\n",
    "Below are the details of these datatypes:\r\n",
    "\r\n",
    "\r\n",
    "● <em>Integer</em> (int)- Integer means a non-decimal point numeric number. Integer can take \r\n",
    "both negative and positive values. Eg-- 4, 6,10, -50, 6513\r\n",
    "\r\n",
    "● Float- The float type in Python designates a floating-point number. float values are \r\n",
    "specified with a decimal point. Float can take both negative and positive values. \r\n",
    "Eg – 5.4, -2.1113, 1.1, -73.87\r\n",
    "\r\n",
    "● String(str)- Strings are sequences of character data. Strings may contain alphabets \r\n",
    "or numbers or a combination of both. Strings literals may be delimited using single or \r\n",
    "double quotes. All the characters between the opening delimiter and the closing \r\n",
    "delimiter are a part of the string. Eg- “Hello World”, ‘My name is John’, “My area pin\u0002code is 121121”\r\n",
    "\r\n",
    "● Boolean(bool)- Boolean means True or False. An object can take a value of True or \r\n",
    "a value of False.\r\n",
    "\r\n",
    "\r\n",
    "#### Most Commonly used data Types\r\n",
    "##### IMMUTABLE DATATYPES\r\n",
    "int.<br>\r\n",
    "float.<br>\r\n",
    "bool.<br>\r\n",
    "str.<br>\r\n",
    "tuple.<br>\r\n",
    "#### MUTABLE DATATYPES\r\n",
    "list.<br>\r\n",
    "set.<br>\r\n",
    "dict.<br>\r\n",
    "range.<br>"
   ],
   "metadata": {}
  },
  {
   "cell_type": "code",
   "execution_count": 1,
   "source": [
    "print(\"Hello World!\")"
   ],
   "outputs": [
    {
     "output_type": "stream",
     "name": "stdout",
     "text": [
      "Hello World!\n"
     ]
    }
   ],
   "metadata": {}
  },
  {
   "cell_type": "code",
   "execution_count": 5,
   "source": [
    "a = \"Hello World\"\r\n",
    "print(a)"
   ],
   "outputs": [
    {
     "output_type": "stream",
     "name": "stdout",
     "text": [
      "Hello World\n"
     ]
    }
   ],
   "metadata": {}
  },
  {
   "cell_type": "code",
   "execution_count": 7,
   "source": [
    "# we can add comments to code cells using a hashtag\r\n",
    "# on windows you can comment a line with 'ctrl + /'\r\n",
    "#\r\n",
    "# assign a variable to a value\r\n",
    "a=3 # assign variable a to 3\r\n",
    "print('Three times a is',3*a)\r\n",
    "a=2\r\n",
    "print('3 times a is',3*a)\r\n"
   ],
   "outputs": [
    {
     "output_type": "stream",
     "name": "stdout",
     "text": [
      "Three times a is 9\n",
      "3 times a is 6\n"
     ]
    }
   ],
   "metadata": {}
  },
  {
   "cell_type": "code",
   "execution_count": 8,
   "source": [
    "a = 10\r\n",
    "print(a)\r\n",
    "print(type(a))"
   ],
   "outputs": [
    {
     "output_type": "stream",
     "name": "stdout",
     "text": [
      "10\n",
      "<class 'int'>\n"
     ]
    }
   ],
   "metadata": {}
  },
  {
   "cell_type": "code",
   "execution_count": 11,
   "source": [
    "# Float Datatype\r\n",
    "a = 10.0\r\n",
    "print(type(a))\r\n",
    "b = 1.2e3\r\n",
    "print(type(b))"
   ],
   "outputs": [
    {
     "output_type": "stream",
     "name": "stdout",
     "text": [
      "<class 'float'>\n",
      "<class 'float'>\n"
     ]
    }
   ],
   "metadata": {}
  },
  {
   "cell_type": "markdown",
   "source": [
    "###  Bool Datatype\r\n",
    "Bool returns :\r\n",
    "\r\n",
    "True\r\n",
    "\r\n",
    "False"
   ],
   "metadata": {}
  },
  {
   "cell_type": "code",
   "execution_count": 16,
   "source": [
    "a = 10\r\n",
    "b = 20\r\n",
    "c = a<b\r\n",
    "print(c)"
   ],
   "outputs": [
    {
     "output_type": "stream",
     "name": "stdout",
     "text": [
      "True\n"
     ]
    }
   ],
   "metadata": {}
  },
  {
   "cell_type": "code",
   "execution_count": 15,
   "source": [
    "c = a>b\r\n",
    "print(c)"
   ],
   "outputs": [
    {
     "output_type": "stream",
     "name": "stdout",
     "text": [
      "False\n"
     ]
    }
   ],
   "metadata": {}
  },
  {
   "cell_type": "markdown",
   "source": [
    "# Collections of variables\r\n",
    "There are 4 main types of collections of variables in python\r\n",
    "1. list\r\n",
    "2. touple\r\n",
    "3. set\r\n",
    "4. dictionary"
   ],
   "metadata": {}
  },
  {
   "cell_type": "code",
   "execution_count": null,
   "source": [
    "# a list is an ordered and indexed collection of values that are changeable and allows duplicates\r\n",
    "simple_list = ['Dan',2,3,4,'python',2.71]\r\n",
    "print(simple_list)\r\n",
    "print(simple_list[0])\r\n",
    "print(simple_list[3])\r\n",
    "print(simple_list[-1])\r\n",
    "print(simple_list[-2])\r\n",
    "print(len(simple_list))"
   ],
   "outputs": [],
   "metadata": {}
  },
  {
   "cell_type": "code",
   "execution_count": null,
   "source": [
    "\r\n",
    "\r\n",
    "<class 'float'>\r\n",
    "\r\n",
    "In [9]:\r\n",
    "\r\n",
    "True\r\n",
    "In [10]:\r\n",
    "a = 10\r\n",
    "b = 20\r\n",
    "c = a>b\r\n",
    "print(c)\r\n",
    "False\r\n",
    "Typecasting\r\n",
    "In [11]:\r\n",
    "a = 10\r\n",
    "print(type(a))\r\n",
    "print(float(a))\r\n",
    "print(bool(a))\r\n",
    "<class 'int'>\r\n",
    "10.0\r\n",
    "True\r\n",
    "In [12]:\r\n",
    "a = 12.66\r\n",
    "print(type(a))\r\n",
    "print(int(a))\r\n",
    "print(bool(a))\r\n",
    "<class 'float'>\r\n",
    "12\r\n",
    "True\r\n",
    "In [13]:\r\n",
    "a = 0\r\n",
    "print(type(a))\r\n",
    "print(float(a))\r\n",
    "print(bool(a))\r\n",
    "<class 'int'>\r\n",
    "0.0\r\n",
    "False\r\n",
    "In [14]:\r\n",
    "a = True\r\n",
    "print(type(a))\r\n",
    "print(int(a))\r\n",
    "print(float(a))\r\n",
    "<class 'bool'>\r\n",
    "1\r\n",
    "1.0\r\n",
    "REUSING\r\n",
    "In int type reusing is allowed from '0 to 256' only\r\n",
    "In [16]:\r\n",
    "x = 1\r\n",
    "y = 1\r\n",
    "x is y\r\n",
    "Out[16]:\r\n",
    "True\r\n",
    "In [17]:\r\n",
    "x = 0\r\n",
    "y = 0\r\n",
    "x is y\r\n",
    "Out[17]:\r\n",
    "True\r\n",
    "In [18]:\r\n",
    "x = 257\r\n",
    "y = 257\r\n",
    "x is y    #Output will be False because reusing is allowed upto 256 only\r\n",
    "Out[18]:\r\n",
    "False\r\n",
    "Reusing allowed in Bool type\r\n",
    "In [21]:\r\n",
    "x = True\r\n",
    "y = True\r\n",
    "x is y\r\n",
    "Out[21]:\r\n",
    "True\r\n",
    "In [22]:\r\n",
    "x = False\r\n",
    "y = False\r\n",
    "x is y\r\n",
    "Out[22]:\r\n",
    "True\r\n",
    "Reusing not allowed in float & complex type\r\n",
    "In [19]:\r\n",
    "x = 1.0\r\n",
    "y = 1.0\r\n",
    "x is y\r\n",
    "Out[19]:\r\n",
    "False\r\n",
    "In [20]:\r\n",
    "x = 10+2j\r\n",
    "y = 10+2j\r\n",
    "x is y\r\n",
    "Out[20]:\r\n",
    "False\r\n"
   ],
   "outputs": [],
   "metadata": {}
  },
  {
   "cell_type": "code",
   "execution_count": null,
   "source": [],
   "outputs": [],
   "metadata": {}
  },
  {
   "cell_type": "markdown",
   "source": [],
   "metadata": {}
  },
  {
   "cell_type": "code",
   "execution_count": null,
   "source": [],
   "outputs": [],
   "metadata": {}
  }
 ],
 "metadata": {
  "orig_nbformat": 4,
  "language_info": {
   "name": "python",
   "version": "3.8.3",
   "mimetype": "text/x-python",
   "codemirror_mode": {
    "name": "ipython",
    "version": 3
   },
   "pygments_lexer": "ipython3",
   "nbconvert_exporter": "python",
   "file_extension": ".py"
  },
  "kernelspec": {
   "name": "python3",
   "display_name": "Python 3.8.3 64-bit"
  },
  "interpreter": {
   "hash": "2db524e06e9f5f4ffedc911c917cb75e12dbc923643829bf417064a77eb14d37"
  }
 },
 "nbformat": 4,
 "nbformat_minor": 2
}