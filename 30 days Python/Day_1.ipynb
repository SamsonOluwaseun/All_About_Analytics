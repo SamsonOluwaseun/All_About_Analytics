{
 "cells": [
  {
   "cell_type": "markdown",
   "source": [
    "# 30daysofPython-Day-1\r\n"
   ],
   "metadata": {}
  },
  {
   "cell_type": "markdown",
   "source": [
    "## Introduction to python\r\n",
    "In Jupyter note, the Markdown section allows us to write texts, which can be used in describing codes and writing note.\r\n",
    "\r\n",
    "This cell is called a 'Markdown' cell.\r\n",
    "\r\n",
    "Text in this section uses most of the HTML functions, such as hashtag (for section header), breaks etc  .\r\n",
    "\r\n",
    "We can also add subsections.\r\n",
    "\r\n",
    "### Subsection\r\n",
    "\r\n",
    "It is convenient to communicate how your code works and what it is doing with markdown cells!\r\n",
    "\r\n",
    "LaTeX commands can be used also in the Markdown section, for in-line mathematical formular, single dollar signs is used:  $\\int_0^\\infty f(x) dx$\r\n",
    "\r\n",
    "Also a LaTeX equations is centered on their own lines with double dollar signs: $$\\sum_{i=1}^\\infty \\frac{1}{2^i}$$ "
   ],
   "metadata": {}
  },
  {
   "cell_type": "markdown",
   "source": [
    "# Shortcuts\r\n",
    "\r\n",
    "We can look at the existing keyboard shortcuts through the help menu, and we can make our own there\r\n",
    "\r\n",
    "The most important shortcuts are\r\n",
    "1. Shift + Enter: To run current cell and proceed to the next.\r\n",
    "2. Ctrl + Enter: To run current cell\r\n",
    "3. Alt + Enter: \r\n",
    "4. Tab: For auto complete\r\n",
    "5. Shift + Tab"
   ],
   "metadata": {}
  },
  {
   "cell_type": "markdown",
   "source": [
    "### DATATYPES IN PYTHON\r\n",
    "What is a data type?\r\n",
    "\r\n",
    "Data types are the classification or categorization of data items. Variables can hold values of different data types and different datatypes can do different things. The most important datatypes are Integer, float, string, Boolean\r\n",
    "Below are the details of these datatypes:\r\n",
    "\r\n",
    "\r\n",
    "● <em>Integer (int)</em>- Integers whole non-decimal numeric numbers. it can take on both negative and positive values. Eg-- 3, 15, -22, -83\r\n",
    "\r\n",
    "● <em>Float</em>- The float type are floating/ decimal-numbers. They are with decimal point. it can take both negative and positive values. \r\n",
    "Eg – 3.2, -56.7889, 7.22, -98.28\r\n",
    "\r\n",
    "● String(str)- These are sequences of character data. it may contain alphabets or numbers or a combination of both. Note: Every Strings is delimited using single or double quotes. All the characters between the opening delimiter and the closing \r\n",
    "delimiter are a part of the string. Eg- “Hello World”, ‘My name is Seun’, “My phonenumber is 0809”\r\n",
    "\r\n",
    "● Boolean(bool)- Boolean means True or False. An object can take a value of either True or False.\r\n",
    "\r\n",
    "\r\n",
    "#### Most Commonly used data Types\r\n",
    "##### IMMUTABLE DATATYPES\r\n",
    "int.<br>\r\n",
    "float.<br>\r\n",
    "bool.<br>\r\n",
    "str.<br>\r\n",
    "tuple.<br>\r\n",
    "#### MUTABLE DATATYPES\r\n",
    "list.<br>\r\n",
    "set.<br>\r\n",
    "dict.<br>\r\n",
    "range.<br>"
   ],
   "metadata": {}
  },
  {
   "cell_type": "code",
   "execution_count": 17,
   "source": [
    "print(\"Hello World!\")"
   ],
   "outputs": [
    {
     "output_type": "stream",
     "name": "stdout",
     "text": [
      "Hello World!\n"
     ]
    }
   ],
   "metadata": {}
  },
  {
   "cell_type": "code",
   "execution_count": 18,
   "source": [
    "a = \"Hello World\"\r\n",
    "print(a)"
   ],
   "outputs": [
    {
     "output_type": "stream",
     "name": "stdout",
     "text": [
      "Hello World\n"
     ]
    }
   ],
   "metadata": {}
  },
  {
   "cell_type": "code",
   "execution_count": 19,
   "source": [
    "# Hashtags in the code cell is used for adding inline comment to codes\r\n",
    "# on windows you can comment a line with 'ctrl + /'\r\n",
    "#\r\n",
    "# assign a variable to a value\r\n",
    "a=8 # assign variable a to 3\r\n",
    "print('Three times a is',3*a)\r\n",
    "a=4\r\n",
    "print('3 times a is',3*a)\r\n"
   ],
   "outputs": [
    {
     "output_type": "stream",
     "name": "stdout",
     "text": [
      "Three times a is 24\n",
      "3 times a is 12\n"
     ]
    }
   ],
   "metadata": {}
  },
  {
   "cell_type": "code",
   "execution_count": 20,
   "source": [
    "a = 10\r\n",
    "print(a)\r\n",
    "print(type(a))"
   ],
   "outputs": [
    {
     "output_type": "stream",
     "name": "stdout",
     "text": [
      "10\n",
      "<class 'int'>\n"
     ]
    }
   ],
   "metadata": {}
  },
  {
   "cell_type": "code",
   "execution_count": 21,
   "source": [
    "# Float Datatype\r\n",
    "a = 10.0\r\n",
    "print(type(a))\r\n",
    "b = 1.2e3\r\n",
    "print(type(b))"
   ],
   "outputs": [
    {
     "output_type": "stream",
     "name": "stdout",
     "text": [
      "<class 'float'>\n",
      "<class 'float'>\n"
     ]
    }
   ],
   "metadata": {}
  },
  {
   "cell_type": "markdown",
   "source": [
    "###  Bool Datatype\r\n",
    "Bool returns :\r\n",
    "\r\n",
    "True\r\n",
    "\r\n",
    "False"
   ],
   "metadata": {}
  },
  {
   "cell_type": "code",
   "execution_count": 16,
   "source": [
    "a = 10\r\n",
    "b = 20\r\n",
    "c = a<b\r\n",
    "print(c)"
   ],
   "outputs": [
    {
     "output_type": "stream",
     "name": "stdout",
     "text": [
      "True\n"
     ]
    }
   ],
   "metadata": {}
  },
  {
   "cell_type": "code",
   "execution_count": 15,
   "source": [
    "c = a>b\r\n",
    "print(c)"
   ],
   "outputs": [
    {
     "output_type": "stream",
     "name": "stdout",
     "text": [
      "False\n"
     ]
    }
   ],
   "metadata": {}
  },
  {
   "cell_type": "markdown",
   "source": [
    "### REUSING\r\n",
    "In int type reusing is allowed from '0 to 256' only, it is also allowed for Boolean data type, but not allowed in float & complex type"
   ],
   "metadata": {}
  },
  {
   "cell_type": "code",
   "execution_count": 28,
   "source": [
    "x = 1\r\n",
    "y = 1\r\n",
    "x is y"
   ],
   "outputs": [
    {
     "output_type": "execute_result",
     "data": {
      "text/plain": [
       "True"
      ]
     },
     "metadata": {},
     "execution_count": 28
    }
   ],
   "metadata": {}
  },
  {
   "cell_type": "code",
   "execution_count": 29,
   "source": [
    "x = 257\r\n",
    "y = 257\r\n",
    "x is y    #Output will be False because reusing is allowed upto 256 only"
   ],
   "outputs": [
    {
     "output_type": "execute_result",
     "data": {
      "text/plain": [
       "False"
      ]
     },
     "metadata": {},
     "execution_count": 29
    }
   ],
   "metadata": {}
  },
  {
   "cell_type": "code",
   "execution_count": null,
   "source": [
    "# Boolean\r\n",
    "x = True\r\n",
    "y = True\r\n",
    "x is y"
   ],
   "outputs": [],
   "metadata": {}
  },
  {
   "cell_type": "code",
   "execution_count": 30,
   "source": [
    "#Float\r\n",
    "x = 1.0\r\n",
    "y = 1.0\r\n",
    "x is y"
   ],
   "outputs": [
    {
     "output_type": "execute_result",
     "data": {
      "text/plain": [
       "False"
      ]
     },
     "metadata": {},
     "execution_count": 30
    }
   ],
   "metadata": {}
  },
  {
   "cell_type": "code",
   "execution_count": 31,
   "source": [
    "#Complex number\r\n",
    "x = 10+2j\r\n",
    "y = 10+2j\r\n",
    "x is y"
   ],
   "outputs": [
    {
     "output_type": "execute_result",
     "data": {
      "text/plain": [
       "False"
      ]
     },
     "metadata": {},
     "execution_count": 31
    }
   ],
   "metadata": {}
  },
  {
   "cell_type": "markdown",
   "source": [
    "# Collections of variables\r\n",
    "There are 4 main types of collections of variables in python\r\n",
    "1. list\r\n",
    "2. touple\r\n",
    "3. set\r\n",
    "4. dictionary\r\n",
    "<em>Note:</em> All sequence count starts from zero in Python. "
   ],
   "metadata": {}
  },
  {
   "cell_type": "code",
   "execution_count": 27,
   "source": [
    "# a list is an ordered and indexed collection of values that are changeable and allows duplicates\r\n",
    "my_list = ['Ken',2,3,4,'python',9.00,-2]\r\n",
    "print(my_list)\r\n",
    "print(my_list[0]) #Print the first element in the list\r\n",
    "print(my_list[4]) #Print the fifth element in the list\r\n",
    "print(my_list[-1]) #Last element in the list\r\n",
    "print(my_list[-2]) #2nd to Last element in the list\r\n",
    "print(len(my_list))"
   ],
   "outputs": [
    {
     "output_type": "stream",
     "name": "stdout",
     "text": [
      "['Ken', 2, 3, 4, 'python', 9.0, -2]\n",
      "Ken\n",
      "python\n",
      "-2\n",
      "9.0\n",
      "7\n"
     ]
    }
   ],
   "metadata": {}
  },
  {
   "cell_type": "code",
   "execution_count": 32,
   "source": [
    "# it is easy to change entries of a list\r\n",
    "my_list[3] = 52\r\n",
    "print(my_list[3]) # index is based on 0!!!\r\n",
    "my_list.append('to the back') #Adding new record\r\n",
    "print(my_list)\r\n",
    "print(len(my_list))\r\n",
    "my_list.pop(4) #deleting an Item\r\n",
    "print(my_list)"
   ],
   "outputs": [
    {
     "output_type": "stream",
     "name": "stdout",
     "text": [
      "52\n",
      "['Ken', 2, 3, 52, 'python', 9.0, -2, 'to the back']\n",
      "8\n",
      "['Ken', 2, 3, 52, 9.0, -2, 'to the back']\n"
     ]
    }
   ],
   "metadata": {}
  },
  {
   "cell_type": "code",
   "execution_count": null,
   "source": [],
   "outputs": [],
   "metadata": {}
  },
  {
   "cell_type": "markdown",
   "source": [],
   "metadata": {}
  },
  {
   "cell_type": "code",
   "execution_count": null,
   "source": [],
   "outputs": [],
   "metadata": {}
  }
 ],
 "metadata": {
  "orig_nbformat": 4,
  "language_info": {
   "name": "python",
   "version": "3.8.3",
   "mimetype": "text/x-python",
   "codemirror_mode": {
    "name": "ipython",
    "version": 3
   },
   "pygments_lexer": "ipython3",
   "nbconvert_exporter": "python",
   "file_extension": ".py"
  },
  "kernelspec": {
   "name": "python3",
   "display_name": "Python 3.8.3 64-bit"
  },
  "interpreter": {
   "hash": "2db524e06e9f5f4ffedc911c917cb75e12dbc923643829bf417064a77eb14d37"
  }
 },
 "nbformat": 4,
 "nbformat_minor": 2
}