{
 "cells": [
  {
   "cell_type": "markdown",
   "metadata": {},
   "source": [
    "# 30daysofPython-Day-1\n"
   ]
  },
  {
   "cell_type": "markdown",
   "metadata": {},
   "source": [
    "## Introduction to python\n",
    "In Jupyter note, the Markdown section allows us to write texts, which can be used in describing codes and writing note.\n",
    "\n",
    "This cell is called a 'Markdown' cell.\n",
    "\n",
    "Text in this section uses most of the HTML functions, such as hashtag (for section header), breaks etc  .\n",
    "\n",
    "We can also add subsections.\n",
    "\n",
    "### Subsection\n",
    "\n",
    "It is convenient to communicate how your code works and what it is doing with markdown cells!\n",
    "\n",
    "LaTeX commands can be used also in the Markdown section, for in-line mathematical formular, single dollar signs is used:  $\\int_0^\\infty f(x) dx$\n",
    "\n",
    "Also a LaTeX equations is centered on their own lines with double dollar signs: $$\\sum_{i=1}^\\infty \\frac{1}{2^i}$$ "
   ]
  },
  {
   "cell_type": "markdown",
   "metadata": {},
   "source": [
    "# Shortcuts\n",
    "\n",
    "We can look at the existing keyboard shortcuts through the help menu, and we can make our own there\n",
    "\n",
    "The most important shortcuts are\n",
    "1. Shift + Enter: To run current cell and proceed to the next.\n",
    "2. Ctrl + Enter: To run current cell\n",
    "3. Alt + Enter: \n",
    "4. Tab: For auto complete\n",
    "5. Shift + Tab"
   ]
  },
  {
   "cell_type": "markdown",
   "metadata": {},
   "source": [
    "### DATATYPES IN PYTHON\n",
    "What is a data type?\n",
    "\n",
    "Data types are the classification or categorization of data items. Variables can hold values of different data types and different datatypes can do different things. The most important datatypes are Integer, float, string, Boolean\n",
    "Below are the details of these datatypes:\n",
    "\n",
    "\n",
    "● <em>Integer (int)</em>- Integers whole non-decimal numeric numbers. it can take on both negative and positive values. Eg-- 3, 15, -22, -83\n",
    "\n",
    "● <em>Float</em>- The float type are floating/ decimal-numbers. They are with decimal point. it can take both negative and positive values. \n",
    "Eg – 3.2, -56.7889, 7.22, -98.28\n",
    "\n",
    "● String(str)- These are sequences of character data. it may contain alphabets or numbers or a combination of both. Note: Every Strings is delimited using single or double quotes. All the characters between the opening delimiter and the closing \n",
    "delimiter are a part of the string. Eg- “Hello World”, ‘My name is Seun’, “My phonenumber is 0809”\n",
    "\n",
    "● Boolean(bool)- Boolean means True or False. An object can take a value of either True or False.\n",
    "\n",
    "\n",
    "#### Most Commonly used data Types\n",
    "##### IMMUTABLE DATATYPES\n",
    "int.<br>\n",
    "float.<br>\n",
    "bool.<br>\n",
    "str.<br>\n",
    "tuple.<br>\n",
    "#### MUTABLE DATATYPES\n",
    "list.<br>\n",
    "set.<br>\n",
    "dict.<br>\n",
    "range.<br>"
   ]
  },
  {
   "cell_type": "code",
   "execution_count": 2,
   "metadata": {},
   "outputs": [
    {
     "name": "stdout",
     "output_type": "stream",
     "text": [
      "Hello World!\n"
     ]
    }
   ],
   "source": [
    "print(\"Hello World!\")"
   ]
  },
  {
   "cell_type": "code",
   "execution_count": 3,
   "metadata": {},
   "outputs": [
    {
     "name": "stdout",
     "output_type": "stream",
     "text": [
      "Hello World\n"
     ]
    }
   ],
   "source": [
    "a = \"Hello World\"\n",
    "print(a)"
   ]
  },
  {
   "cell_type": "code",
   "execution_count": 4,
   "metadata": {},
   "outputs": [
    {
     "name": "stdout",
     "output_type": "stream",
     "text": [
      "Three times a is 24\n",
      "3 times a is 12\n"
     ]
    }
   ],
   "source": [
    "# Hashtags in the code cell is used for adding inline comment to codes\n",
    "# on windows you can comment a line with 'ctrl + /'\n",
    "#\n",
    "# assign a variable to a value\n",
    "a=8 # assign variable a to 3\n",
    "print('Three times a is',3*a)\n",
    "a=4\n",
    "print('3 times a is',3*a)\n"
   ]
  },
  {
   "cell_type": "code",
   "execution_count": 5,
   "metadata": {},
   "outputs": [
    {
     "name": "stdout",
     "output_type": "stream",
     "text": [
      "10\n",
      "<class 'int'>\n"
     ]
    }
   ],
   "source": [
    "a = 10\n",
    "print(a)\n",
    "print(type(a))"
   ]
  },
  {
   "cell_type": "code",
   "execution_count": 6,
   "metadata": {},
   "outputs": [
    {
     "name": "stdout",
     "output_type": "stream",
     "text": [
      "<class 'float'>\n",
      "<class 'float'>\n"
     ]
    }
   ],
   "source": [
    "# Float Datatype\n",
    "a = 10.0\n",
    "print(type(a))\n",
    "b = 1.2e3\n",
    "print(type(b))"
   ]
  },
  {
   "cell_type": "markdown",
   "metadata": {},
   "source": [
    "###  Bool Datatype\n",
    "Bool returns :\n",
    "\n",
    "True\n",
    "\n",
    "False"
   ]
  },
  {
   "cell_type": "code",
   "execution_count": 7,
   "metadata": {},
   "outputs": [
    {
     "name": "stdout",
     "output_type": "stream",
     "text": [
      "True\n"
     ]
    }
   ],
   "source": [
    "a = 10\n",
    "b = 20\n",
    "c = a<b\n",
    "print(c)"
   ]
  },
  {
   "cell_type": "code",
   "execution_count": 8,
   "metadata": {},
   "outputs": [
    {
     "name": "stdout",
     "output_type": "stream",
     "text": [
      "False\n"
     ]
    }
   ],
   "source": [
    "c = a>b\n",
    "print(c)"
   ]
  },
  {
   "cell_type": "markdown",
   "metadata": {},
   "source": [
    "### REUSING\n",
    "In int type reusing is allowed from '0 to 256' only, it is also allowed for Boolean data type, but not allowed in float & complex type"
   ]
  },
  {
   "cell_type": "code",
   "execution_count": 8,
   "metadata": {},
   "outputs": [
    {
     "data": {
      "text/plain": [
       "True"
      ]
     },
     "execution_count": 8,
     "metadata": {},
     "output_type": "execute_result"
    }
   ],
   "source": [
    "x = 1\n",
    "y = 1\n",
    "x is y #x == y"
   ]
  },
  {
   "cell_type": "code",
   "execution_count": 10,
   "metadata": {},
   "outputs": [
    {
     "data": {
      "text/plain": [
       "False"
      ]
     },
     "execution_count": 10,
     "metadata": {},
     "output_type": "execute_result"
    }
   ],
   "source": [
    "x = 257\n",
    "y = 257\n",
    "x is y    #Output will be False because reusing is allowed upto 256 only"
   ]
  },
  {
   "cell_type": "code",
   "execution_count": 11,
   "metadata": {},
   "outputs": [
    {
     "data": {
      "text/plain": [
       "True"
      ]
     },
     "execution_count": 11,
     "metadata": {},
     "output_type": "execute_result"
    }
   ],
   "source": [
    "# Boolean\n",
    "x = True\n",
    "y = True\n",
    "x is y"
   ]
  },
  {
   "cell_type": "code",
   "execution_count": 12,
   "metadata": {},
   "outputs": [
    {
     "data": {
      "text/plain": [
       "False"
      ]
     },
     "execution_count": 12,
     "metadata": {},
     "output_type": "execute_result"
    }
   ],
   "source": [
    "#Float\n",
    "x = 1.0\n",
    "y = 1.0\n",
    "x is y"
   ]
  },
  {
   "cell_type": "code",
   "execution_count": 9,
   "metadata": {},
   "outputs": [
    {
     "data": {
      "text/plain": [
       "False"
      ]
     },
     "execution_count": 9,
     "metadata": {},
     "output_type": "execute_result"
    }
   ],
   "source": [
    "#Complex number\n",
    "x = 10+2j\n",
    "y = 10+2j\n",
    "x is y"
   ]
  },
  {
   "cell_type": "markdown",
   "metadata": {},
   "source": [
    "# Collections of variables\n",
    "There are 4 main types of collections of variables in python\n",
    "1. list\n",
    "2. touple\n",
    "3. set\n",
    "4. dictionary \n",
    "\n",
    "<em>Note:</em> All sequence count starts from zero in Python. "
   ]
  },
  {
   "cell_type": "code",
   "execution_count": 13,
   "metadata": {},
   "outputs": [
    {
     "name": "stdout",
     "output_type": "stream",
     "text": [
      "['Ken', 2, 3, 4, 'python', 9.0, -2]\n",
      "Ken\n",
      "python\n",
      "-2\n",
      "9.0\n",
      "7\n"
     ]
    }
   ],
   "source": [
    "# a list is an ordered and indexed collection of values that are changeable and allows duplicates\n",
    "my_list = ['Ken',2,3,4,'python',9.00,-2]\n",
    "print(my_list)\n",
    "print(my_list[0]) #Print the first element in the list\n",
    "print(my_list[4]) #Print the fifth element in the list\n",
    "print(my_list[-1]) #Last element in the list\n",
    "print(my_list[-2]) #2nd to Last element in the list\n",
    "print(len(my_list))"
   ]
  },
  {
   "cell_type": "code",
   "execution_count": 2,
   "metadata": {},
   "outputs": [
    {
     "name": "stdout",
     "output_type": "stream",
     "text": [
      "54\n",
      "['Ken', 2, 3, 54, 'python', 9.0, -2, 'to the back']\n",
      "8\n",
      "['Ken', 2, 3, 54, 9.0, -2, 'to the back']\n"
     ]
    }
   ],
   "source": [
    "# it is easy to change entries of a list\n",
    "my_list[3] = 54\n",
    "print(my_list[3]) # index is based on 0!!!\n",
    "my_list.append('to the back') #Adding new record\n",
    "print(my_list)\n",
    "print(len(my_list))\n",
    "my_list.pop(4) #deleting an Item\n",
    "print(my_list)"
   ]
  },
  {
   "cell_type": "code",
   "execution_count": 10,
   "metadata": {},
   "outputs": [
    {
     "name": "stdout",
     "output_type": "stream",
     "text": [
      "[5, 5, 5, 5]\n"
     ]
    }
   ],
   "source": [
    "# it is easy to initialize a list of a particular size with all entries the same\n",
    "repeated_list = [5]*4\n",
    "print(repeated_list)"
   ]
  },
  {
   "cell_type": "code",
   "execution_count": 14,
   "metadata": {},
   "outputs": [
    {
     "name": "stdout",
     "output_type": "stream",
     "text": [
      "['Ken', [1, 2, 3], 3, 4, 'python', 9.0, -2]\n",
      "[1, 2, 3]\n",
      "2\n"
     ]
    }
   ],
   "source": [
    "# we can even use lists as entries of a list\n",
    "my_list[1] = [1,2,3]\n",
    "print(my_list)\n",
    "print(my_list[1])\n",
    "print(my_list[1][1])"
   ]
  },
  {
   "cell_type": "code",
   "execution_count": 15,
   "metadata": {},
   "outputs": [
    {
     "name": "stdout",
     "output_type": "stream",
     "text": [
      "['Ken', [1, 2, 3], 3, 4, 'python', 9.0, -2]\n",
      "['Ken', [1, 2, 3], 3, 4, 'python', 9.0, -2]\n",
      "['Mitchell', [1, 2, 3], 3, 4, 'python', 9.0, -2]\n",
      "['Ken', [1, 2, 3], 3, 4, 'python', 9.0, -2]\n"
     ]
    }
   ],
   "source": [
    "# we must use the copy method to prevent this behavior\n",
    "list3 = my_list.copy()\n",
    "print(list3)\n",
    "print(my_list)\n",
    "list3[0] = 'Mitchell'\n",
    "print(list3)\n",
    "print(my_list)"
   ]
  },
  {
   "cell_type": "markdown",
   "metadata": {},
   "source": [
    "## Tuple\n",
    "a tuple is an ordered collection of values that are unchangeable and allows duplicates"
   ]
  },
  {
   "cell_type": "code",
   "execution_count": 17,
   "metadata": {},
   "outputs": [
    {
     "name": "stdout",
     "output_type": "stream",
     "text": [
      "(12, 42, 11, 99, 2351)\n",
      "42\n"
     ]
    }
   ],
   "source": [
    "my_tuple = (12,42,11,99,2351)\n",
    "print(my_tuple)\n",
    "print(my_tuple[1])"
   ]
  },
  {
   "cell_type": "code",
   "execution_count": 21,
   "metadata": {},
   "outputs": [
    {
     "ename": "TypeError",
     "evalue": "'tuple' object does not support item assignment",
     "output_type": "error",
     "traceback": [
      "\u001b[1;31m---------------------------------------------------------------------------\u001b[0m",
      "\u001b[1;31mTypeError\u001b[0m                                 Traceback (most recent call last)",
      "\u001b[1;32m~\\AppData\\Local\\Temp/ipykernel_13060/4275738929.py\u001b[0m in \u001b[0;36m<module>\u001b[1;34m\u001b[0m\n\u001b[0;32m      1\u001b[0m \u001b[1;31m# it is not possible to change entries in a touple\u001b[0m\u001b[1;33m\u001b[0m\u001b[1;33m\u001b[0m\u001b[0m\n\u001b[1;32m----> 2\u001b[1;33m \u001b[0msimple_tuple\u001b[0m\u001b[1;33m[\u001b[0m\u001b[1;36m0\u001b[0m\u001b[1;33m]\u001b[0m \u001b[1;33m=\u001b[0m \u001b[1;36m5\u001b[0m\u001b[1;33m\u001b[0m\u001b[1;33m\u001b[0m\u001b[0m\n\u001b[0m",
      "\u001b[1;31mTypeError\u001b[0m: 'tuple' object does not support item assignment"
     ]
    }
   ],
   "source": [
    "# it is not possible to change entries in a touple\n",
    "my_tuple[0] = 5"
   ]
  },
  {
   "cell_type": "code",
   "execution_count": 22,
   "metadata": {},
   "outputs": [
    {
     "name": "stdout",
     "output_type": "stream",
     "text": [
      "(5, 42, 11, 99, 2351)\n"
     ]
    }
   ],
   "source": [
    "# you can work around this though...\n",
    "dummy = list(my_tuple)\n",
    "dummy[0] = 5\n",
    "my_tuple = tuple(dummy)\n",
    "print(my_tuple)"
   ]
  },
  {
   "cell_type": "markdown",
   "metadata": {},
   "source": [
    "## Set\n",
    "A set is an unordered collection of values that are not subscriptable,does not allow duplicates but changeable"
   ]
  },
  {
   "cell_type": "code",
   "execution_count": 24,
   "metadata": {},
   "outputs": [
    {
     "name": "stdout",
     "output_type": "stream",
     "text": [
      "{'water', 11, -2}\n"
     ]
    }
   ],
   "source": [
    "my_set = {11,-2,'water',-2}\n",
    "print(my_set)"
   ]
  },
  {
   "cell_type": "code",
   "execution_count": 25,
   "metadata": {},
   "outputs": [
    {
     "ename": "TypeError",
     "evalue": "'set' object is not subscriptable",
     "output_type": "error",
     "traceback": [
      "\u001b[1;31m---------------------------------------------------------------------------\u001b[0m",
      "\u001b[1;31mTypeError\u001b[0m                                 Traceback (most recent call last)",
      "\u001b[1;32m~\\AppData\\Local\\Temp/ipykernel_13060/2135325991.py\u001b[0m in \u001b[0;36m<module>\u001b[1;34m\u001b[0m\n\u001b[1;32m----> 1\u001b[1;33m \u001b[0mprint\u001b[0m\u001b[1;33m(\u001b[0m\u001b[0msimple_set\u001b[0m\u001b[1;33m[\u001b[0m\u001b[1;36m1\u001b[0m\u001b[1;33m]\u001b[0m\u001b[1;33m)\u001b[0m\u001b[1;33m\u001b[0m\u001b[1;33m\u001b[0m\u001b[0m\n\u001b[0m",
      "\u001b[1;31mTypeError\u001b[0m: 'set' object is not subscriptable"
     ]
    }
   ],
   "source": [
    "print(my_set[1])"
   ]
  },
  {
   "cell_type": "code",
   "execution_count": 26,
   "metadata": {},
   "outputs": [
    {
     "name": "stdout",
     "output_type": "stream",
     "text": [
      "True\n"
     ]
    }
   ],
   "source": [
    "print('water' in my_set)"
   ]
  },
  {
   "cell_type": "code",
   "execution_count": 27,
   "metadata": {},
   "outputs": [
    {
     "name": "stdout",
     "output_type": "stream",
     "text": [
      "{'water', 72, 11, -2}\n",
      "{72, 11, -2}\n"
     ]
    }
   ],
   "source": [
    "# you can't change values but you can add and remove entries from a set\n",
    "my_set.add(72)\n",
    "print(my_set)\n",
    "my_set.remove('water')\n",
    "print(my_set)"
   ]
  },
  {
   "cell_type": "markdown",
   "metadata": {},
   "source": [
    "## Dictionary\n",
    "A dictionary is a collection of values that are unordered (but indexed) and changeable"
   ]
  },
  {
   "cell_type": "code",
   "execution_count": 29,
   "metadata": {},
   "outputs": [
    {
     "name": "stdout",
     "output_type": "stream",
     "text": [
      "{'brand': 'Apple', 'product': 'iPhone', 'model': 'X'}\n",
      "I bought an iPhone model X from Apple\n"
     ]
    }
   ],
   "source": [
    "my_dict = {\n",
    "    \"brand\": \"Apple\",\n",
    "    \"product\": \"iPhone\",\n",
    "    \"model\": \"X\"\n",
    "}\n",
    "print(my_dict)\n",
    "print('I bought an',my_dict['product'],\"model\",my_dict['model'],'from',my_dict['brand'])"
   ]
  },
  {
   "cell_type": "code",
   "execution_count": 30,
   "metadata": {},
   "outputs": [
    {
     "name": "stdout",
     "output_type": "stream",
     "text": [
      "I bought an iPhone model 11 pro from Apple\n"
     ]
    }
   ],
   "source": [
    "my_dict[\"model\"] = \"11 pro\"\n",
    "print('I bought an',my_dict['product'],\"model\",my_dict['model'],'from',my_dict['brand'])"
   ]
  },
  {
   "cell_type": "markdown",
   "metadata": {},
   "source": [
    "# Accessing data in lists\n",
    "A list is the main data type we will use for now and there are some rules we need to remember for accessing data in lists. \n",
    "\n",
    "Later we'll get into NumPy arrays, but the same rules here apply to them.\n",
    "\n",
    "With NumPy arrays we can access data in more ways."
   ]
  },
  {
   "cell_type": "code",
   "execution_count": 31,
   "metadata": {},
   "outputs": [
    {
     "name": "stdout",
     "output_type": "stream",
     "text": [
      "[2, 7, 3]\n",
      "[2]\n",
      "[7, 3, 66, 1923]\n"
     ]
    }
   ],
   "source": [
    "my_list = [1,5,2,7,3,66,1923,11]\n",
    "# we can access multiple values in the list using the :\n",
    "# we must be careful though\n",
    "print(my_list[2:5])\n",
    "# why isn't 66 in the output?\n",
    "# the number to the left of the : is inclusive, but the number to the right is exclusive\n",
    "print(my_list[2:3])\n",
    "# we can also use negative numbers\n",
    "print(my_list[-5:-1])"
   ]
  }
 ],
 "metadata": {
  "interpreter": {
   "hash": "2db524e06e9f5f4ffedc911c917cb75e12dbc923643829bf417064a77eb14d37"
  },
  "kernelspec": {
   "display_name": "Python 3.8.3 64-bit",
   "name": "python3"
  },
  "language_info": {
   "codemirror_mode": {
    "name": "ipython",
    "version": 3
   },
   "file_extension": ".py",
   "mimetype": "text/x-python",
   "name": "python",
   "nbconvert_exporter": "python",
   "pygments_lexer": "ipython3",
   "version": "3.10.1"
  },
  "orig_nbformat": 4
 },
 "nbformat": 4,
 "nbformat_minor": 2
}
