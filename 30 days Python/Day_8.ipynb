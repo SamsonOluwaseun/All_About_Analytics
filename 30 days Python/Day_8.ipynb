{
 "cells": [
  {
   "cell_type": "markdown",
   "metadata": {},
   "source": [
    "# Day-8 of #30daysofPython\n",
    "\n",
    "## Topic - List\n",
    "    Functions of a List\n",
    "    Methods of a List\n",
    "    Adding elements in a List\n",
    "    Removing elements in a List\n",
    "    Sorting a List\n",
    "        Ascending Order\n",
    "        Descending Order\n",
    "    Counting how many times an element is repeated.\n",
    "    Finding index of an element\n",
    "    Joining a list"
   ]
  },
  {
   "cell_type": "markdown",
   "metadata": {},
   "source": [
    "## LIST\n",
    "    List is mutable, we can add and remove elements in a list.\n",
    "    List is represented as [ ]\n",
    "### Functions of a list:\n",
    "* len(list)------> Represents length of a list.\n",
    "* max(list)------> Gives maximum value in a list.\n",
    "* min(list)------> Gives minimum value in a list.\n",
    "* list()---------> converts any datatype into list."
   ]
  },
  {
   "cell_type": "code",
   "execution_count": 1,
   "metadata": {},
   "outputs": [
    {
     "name": "stdout",
     "output_type": "stream",
     "text": [
      "<class 'list'>\n"
     ]
    }
   ],
   "source": [
    "l = [1,2,3,4,5,6]\n",
    "print(type(l))"
   ]
  },
  {
   "cell_type": "code",
   "execution_count": 4,
   "metadata": {},
   "outputs": [
    {
     "data": {
      "text/plain": [
       "1"
      ]
     },
     "execution_count": 4,
     "metadata": {},
     "output_type": "execute_result"
    }
   ],
   "source": [
    "len(l)"
   ]
  },
  {
   "cell_type": "code",
   "execution_count": 5,
   "metadata": {},
   "outputs": [
    {
     "data": {
      "text/plain": [
       "6"
      ]
     },
     "execution_count": 5,
     "metadata": {},
     "output_type": "execute_result"
    }
   ],
   "source": [
    "max(l)"
   ]
  },
  {
   "cell_type": "code",
   "execution_count": 6,
   "metadata": {},
   "outputs": [
    {
     "data": {
      "text/plain": [
       "1"
      ]
     },
     "execution_count": 6,
     "metadata": {},
     "output_type": "execute_result"
    }
   ],
   "source": [
    "min(l)"
   ]
  },
  {
   "cell_type": "code",
   "execution_count": 8,
   "metadata": {},
   "outputs": [
    {
     "name": "stdout",
     "output_type": "stream",
     "text": [
      "[1, 2, 3, 4, 5, 6]\n"
     ]
    }
   ],
   "source": [
    "print(l) #directly printing list"
   ]
  },
  {
   "cell_type": "code",
   "execution_count": 9,
   "metadata": {},
   "outputs": [
    {
     "data": {
      "text/plain": [
       "[1, 2, 3, 4, 5, 6]"
      ]
     },
     "execution_count": 9,
     "metadata": {},
     "output_type": "execute_result"
    }
   ],
   "source": [
    "l[0:len(l)]  #Printing a list based on index"
   ]
  },
  {
   "cell_type": "code",
   "execution_count": 10,
   "metadata": {},
   "outputs": [
    {
     "name": "stdout",
     "output_type": "stream",
     "text": [
      "[1, 2, 3, 4, 5, 6]\n"
     ]
    }
   ],
   "source": [
    "#Printing a list using 'for' loop\n",
    "l1=[]             # creating a empty list\n",
    "for i in l:\n",
    "    l1 += [i]     # Here, l1 = l1 + [i], every element is converting to a list and adding to a empty list\n",
    "print(l1)         # Printing an updated new list"
   ]
  },
  {
   "cell_type": "markdown",
   "metadata": {},
   "source": [
    "## Methods in a list\n",
    "### Adding elements in a list:\n",
    "* list.append() -----> Adds one element, by default it adds in last position\n",
    "* list.extend([ , ]) -----> Adds multiple elements, by default it adds in last position\n",
    "* list.insert(index,element) -----> Adds element at specifies index\n"
   ]
  },
  {
   "cell_type": "code",
   "execution_count": 11,
   "metadata": {},
   "outputs": [],
   "source": [
    "L = [0,1,2,3,'Hi',5,6,'Oluwaseun']"
   ]
  },
  {
   "cell_type": "code",
   "execution_count": 12,
   "metadata": {},
   "outputs": [
    {
     "name": "stdout",
     "output_type": "stream",
     "text": [
      "[0, 1, 2, 3, 'Hi', 5, 6, 'Oluwaseun']\n"
     ]
    }
   ],
   "source": [
    "print(L)"
   ]
  },
  {
   "cell_type": "code",
   "execution_count": 13,
   "metadata": {},
   "outputs": [],
   "source": [
    "L.append(2)\n",
    "print(L)"
   ]
  },
  {
   "cell_type": "code",
   "execution_count": 15,
   "metadata": {},
   "outputs": [
    {
     "name": "stdout",
     "output_type": "stream",
     "text": [
      "[0, 1, 2, 3, 'Hi', 5, 6, 'Oluwaseun', 2, 7, 8, 99]\n"
     ]
    }
   ],
   "source": [
    "L.extend([7,8,99])\n",
    "print(L)"
   ]
  },
  {
   "cell_type": "code",
   "execution_count": 16,
   "metadata": {},
   "outputs": [
    {
     "name": "stdout",
     "output_type": "stream",
     "text": [
      "[0, 1, 2, 3, 'Hi', 'How are you?', 5, 6, 'Oluwaseun', 2, 7, 8, 99]\n"
     ]
    }
   ],
   "source": [
    "L.insert(5,'How are you?')\n",
    "print(L)"
   ]
  },
  {
   "cell_type": "markdown",
   "metadata": {},
   "source": [
    "## Removing elements in a List:\n",
    "* list.remove()----------->Removes the element\n",
    "* list.pop(index)--------->Removes element based on index\n",
    "* list.clear()------------>Clears all the elements in a list\n",
    "* del list[index]--------->Removes element based on index"
   ]
  },
  {
   "cell_type": "code",
   "execution_count": 17,
   "metadata": {},
   "outputs": [
    {
     "name": "stdout",
     "output_type": "stream",
     "text": [
      "[0, 1, 2, 3, 'How are you?', 5, 6, 'Oluwaseun', 2, 7, 8, 99]\n"
     ]
    }
   ],
   "source": [
    "L.remove(\"Hi\")\n",
    "print(L)"
   ]
  },
  {
   "cell_type": "code",
   "execution_count": 19,
   "metadata": {},
   "outputs": [
    {
     "name": "stdout",
     "output_type": "stream",
     "text": [
      "[0, 1, 2, 'How are you?', 5, 6, 'Oluwaseun', 2, 7, 8, 99]\n"
     ]
    }
   ],
   "source": [
    "L.remove(3) #Remove by value writen only works if value exist\n",
    "print(L)"
   ]
  },
  {
   "cell_type": "code",
   "execution_count": 21,
   "metadata": {},
   "outputs": [
    {
     "name": "stdout",
     "output_type": "stream",
     "text": [
      "[0, 1, 2, 'How are you?', 'Oluwaseun', 2, 7, 8, 99]\n"
     ]
    }
   ],
   "source": [
    "L.pop(4) #Recieve position number value. Works based on value Position\n",
    "print(L)"
   ]
  },
  {
   "cell_type": "code",
   "execution_count": 22,
   "metadata": {},
   "outputs": [
    {
     "data": {
      "text/plain": [
       "[1, 2, 'How are you?', 'Oluwaseun', 2, 7, 8, 99]"
      ]
     },
     "execution_count": 22,
     "metadata": {},
     "output_type": "execute_result"
    }
   ],
   "source": [
    "del L[0] #Recieve position number value. Works based on value Position\n",
    "L"
   ]
  },
  {
   "cell_type": "code",
   "execution_count": 23,
   "metadata": {},
   "outputs": [
    {
     "data": {
      "text/plain": [
       "[]"
      ]
     },
     "execution_count": 23,
     "metadata": {},
     "output_type": "execute_result"
    }
   ],
   "source": [
    "L.clear()\n",
    "L"
   ]
  },
  {
   "cell_type": "markdown",
   "metadata": {},
   "source": [
    "## Sorting List\n",
    "Sorting can be done by:\n",
    "* list.sort()\n",
    "* sorted(list)"
   ]
  },
  {
   "cell_type": "code",
   "execution_count": 24,
   "metadata": {},
   "outputs": [
    {
     "data": {
      "text/plain": [
       "[0, 2, 3, 5, 7, 8]"
      ]
     },
     "execution_count": 24,
     "metadata": {},
     "output_type": "execute_result"
    }
   ],
   "source": [
    "#  Sorting in Ascending order\n",
    "l = [0,5,8,3,2,7]\n",
    "l.sort()\n",
    "l"
   ]
  },
  {
   "cell_type": "code",
   "execution_count": 27,
   "metadata": {},
   "outputs": [
    {
     "data": {
      "text/plain": [
       "[0, 2, 3, 5, 7, 8]"
      ]
     },
     "execution_count": 27,
     "metadata": {},
     "output_type": "execute_result"
    }
   ],
   "source": [
    "sorted(l)"
   ]
  },
  {
   "cell_type": "code",
   "execution_count": 31,
   "metadata": {},
   "outputs": [
    {
     "data": {
      "text/plain": [
       "[8, 7, 5, 3, 2, 0]"
      ]
     },
     "execution_count": 31,
     "metadata": {},
     "output_type": "execute_result"
    }
   ],
   "source": [
    "## Sorting in Descending order\n",
    "l = [0,5,8,3,2,7]\n",
    "l.sort(reverse = True)\n",
    "l"
   ]
  },
  {
   "cell_type": "code",
   "execution_count": 30,
   "metadata": {},
   "outputs": [
    {
     "data": {
      "text/plain": [
       "[8, 7, 5, 3, 2, 0]"
      ]
     },
     "execution_count": 30,
     "metadata": {},
     "output_type": "execute_result"
    }
   ],
   "source": [
    "sorted(l,reverse = True)"
   ]
  },
  {
   "cell_type": "markdown",
   "metadata": {},
   "source": [
    "### Counting repeated elements in a list:\n",
    "list.count() is used to count how many times an elements is repeated.\n"
   ]
  },
  {
   "cell_type": "code",
   "execution_count": 34,
   "metadata": {},
   "outputs": [
    {
     "data": {
      "text/plain": [
       "5"
      ]
     },
     "execution_count": 34,
     "metadata": {},
     "output_type": "execute_result"
    }
   ],
   "source": [
    "# Example\n",
    "l = [1,2,2,3,4,5,3,3,3,3]\n",
    "l.count(3)"
   ]
  },
  {
   "cell_type": "code",
   "execution_count": 35,
   "metadata": {},
   "outputs": [
    {
     "data": {
      "text/plain": [
       "7"
      ]
     },
     "execution_count": 35,
     "metadata": {},
     "output_type": "execute_result"
    }
   ],
   "source": [
    "# Finding index of a specific element\n",
    "l = [0,1,2,3,4,5,6,'Hi Oluwaseun']\n",
    "l.index('Hi Oluwaseun')"
   ]
  },
  {
   "cell_type": "code",
   "execution_count": 37,
   "metadata": {},
   "outputs": [
    {
     "data": {
      "text/plain": [
       "'Hi Oluwaseun! How are you ?'"
      ]
     },
     "execution_count": 37,
     "metadata": {},
     "output_type": "execute_result"
    }
   ],
   "source": [
    "# Joining a list\n",
    "l = ['Hi','Oluwaseun!','How','are','you','?']\n",
    "a = ' '.join(l)\n",
    "a"
   ]
  },
  {
   "cell_type": "code",
   "execution_count": 38,
   "metadata": {},
   "outputs": [
    {
     "name": "stdout",
     "output_type": "stream",
     "text": [
      "['H', 'i', ' ', 'O', 'l', 'u', 'w', 'a', 's', 'e', 'u', 'n', '!', ' ', 'H', 'o', 'w', ' ', 'a', 'r', 'e', ' ', 'y', 'o', 'u', ' ', '?']\n"
     ]
    }
   ],
   "source": [
    "print(list(a))  # Converting a string into a list"
   ]
  },
  {
   "cell_type": "code",
   "execution_count": 39,
   "metadata": {},
   "outputs": [
    {
     "data": {
      "text/plain": [
       "[10, 20, 30, 40, 50]"
      ]
     },
     "execution_count": 39,
     "metadata": {},
     "output_type": "execute_result"
    }
   ],
   "source": [
    "a = (10,20,30,40,50)\n",
    "l = list(a)           # Converting a tuple into a list\n",
    "l"
   ]
  },
  {
   "cell_type": "code",
   "execution_count": 40,
   "metadata": {},
   "outputs": [
    {
     "data": {
      "text/plain": [
       "[1, 2, 3, 4, 7, 8, 9]"
      ]
     },
     "execution_count": 40,
     "metadata": {},
     "output_type": "execute_result"
    }
   ],
   "source": [
    "a = {1,2,3,4,7,8,9}\n",
    "list(a)               # Converting a set into a list"
   ]
  },
  {
   "cell_type": "code",
   "execution_count": 45,
   "metadata": {},
   "outputs": [
    {
     "data": {
      "text/plain": [
       "['H',\n",
       " 'i',\n",
       " 'I',\n",
       " ' ',\n",
       " 'a',\n",
       " 'm',\n",
       " ' ',\n",
       " 'O',\n",
       " 'l',\n",
       " 'u',\n",
       " 'w',\n",
       " 'a',\n",
       " 's',\n",
       " 'e',\n",
       " 'u',\n",
       " 'n']"
      ]
     },
     "execution_count": 45,
     "metadata": {},
     "output_type": "execute_result"
    }
   ],
   "source": [
    "# Examples\n",
    "# To remove spaces in first occurence\n",
    "#To remove spaces from above output list\n",
    "a = 'Hi I am Oluwaseun'\n",
    "b = list(a)\n",
    "c = b.remove(' ')          # Here, only the 1st occurence of '<space>' removes\n",
    "b"
   ]
  },
  {
   "cell_type": "code",
   "execution_count": 46,
   "metadata": {},
   "outputs": [
    {
     "name": "stdout",
     "output_type": "stream",
     "text": [
      "['H', 'i', 'I', 'a', 'm', 'O', 'l', 'u', 'w', 'a', 's', 'e', 'u', 'n']\n"
     ]
    }
   ],
   "source": [
    "# 2. To remove spaces completely\n",
    "#To remove '<spaces>' completely, using for loop.\n",
    "a = 'Hi I am Oluwaseun'\n",
    "b = []\n",
    "for i in a:\n",
    "    if i!= ' ':\n",
    "        b += [i]\n",
    "    elif i == ' ':\n",
    "        pass\n",
    "print(b)"
   ]
  },
  {
   "cell_type": "code",
   "execution_count": 47,
   "metadata": {},
   "outputs": [
    {
     "data": {
      "text/plain": [
       "['Oluwaseun', 4, 'Hi', 3]"
      ]
     },
     "execution_count": 47,
     "metadata": {},
     "output_type": "execute_result"
    }
   ],
   "source": [
    "# 3. Extracting last four elements in a list\n",
    "l = [1,2,3,'Hi',4,'Oluwaseun']\n",
    "l[-1:-5:-1]"
   ]
  },
  {
   "cell_type": "code",
   "execution_count": 50,
   "metadata": {},
   "outputs": [
    {
     "name": "stdout",
     "output_type": "stream",
     "text": [
      "Hi Oluwaseun\n"
     ]
    }
   ],
   "source": [
    "# 4. To print 'Hi Balaji' side by side in given list\n",
    "l = [1,2,3,'Hi',4,'Oluwaseun']\n",
    "print(l[l.index('Hi')]+' '+l[l.index('Oluwaseun')])"
   ]
  }
 ],
 "metadata": {
  "interpreter": {
   "hash": "cfcfbbd76e88e95dc35e2ca9edf0c1e882d0553cc29bc4cac8c0f4eabeb0ecb9"
  },
  "kernelspec": {
   "display_name": "Python 3.10.1 64-bit",
   "language": "python",
   "name": "python3"
  },
  "language_info": {
   "codemirror_mode": {
    "name": "ipython",
    "version": 3
   },
   "file_extension": ".py",
   "mimetype": "text/x-python",
   "name": "python",
   "nbconvert_exporter": "python",
   "pygments_lexer": "ipython3",
   "version": "3.10.1"
  },
  "orig_nbformat": 4
 },
 "nbformat": 4,
 "nbformat_minor": 2
}
