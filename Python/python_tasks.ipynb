{
 "cells": [
  {
   "cell_type": "markdown",
   "metadata": {},
   "source": [
    "#### Create a function that convert a string column Amount because of ',' and '$' to numeric"
   ]
  },
  {
   "cell_type": "markdown",
   "metadata": {},
   "source": []
  },
  {
   "cell_type": "code",
   "execution_count": null,
   "metadata": {},
   "outputs": [],
   "source": [
    "def clean_amount(amount_str):\n",
    "# Remove all characters except numbers, \".\", \"+\" or \"-\".\n",
    "  cleaned_amount = re.sub(r\"[^\\d\\-+\\.]\", \"\", amount_str)\n",
    "  return float(cleaned_amount)\n",
    "\n",
    "data['AMMOUNT'] = data['AMMOUNT'].apply(clean_amount)"
   ]
  },
  {
   "cell_type": "markdown",
   "metadata": {},
   "source": [
    "#### Getting The List of Files in Python Workspace"
   ]
  },
  {
   "cell_type": "code",
   "execution_count": null,
   "metadata": {},
   "outputs": [],
   "source": [
    "import os\n",
    "\n",
    "# Get the current working directory\n",
    "current_dir = os.getcwd()\n",
    "\n",
    "# List all files in the current directory (not including subdirectories)\n",
    "files = os.listdir(current_dir)\n",
    "\n",
    "# Print the list of files\n",
    "print(\"Files in current directory:\")\n",
    "for file in files:\n",
    "  print(file)"
   ]
  }
 ],
 "metadata": {
  "language_info": {
   "name": "python"
  }
 },
 "nbformat": 4,
 "nbformat_minor": 2
}
