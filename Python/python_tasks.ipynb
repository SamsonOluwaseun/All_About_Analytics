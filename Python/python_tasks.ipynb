{
 "cells": [
  {
   "cell_type": "markdown",
   "metadata": {},
   "source": [
    "#### Create a function that convert a string column Amount because of ',' and '$' to numeric"
   ]
  },
  {
   "cell_type": "markdown",
   "metadata": {},
   "source": []
  },
  {
   "cell_type": "code",
   "execution_count": null,
   "metadata": {},
   "outputs": [],
   "source": [
    "def clean_amount(amount_str):\n",
    "# Remove all characters except numbers, \".\", \"+\" or \"-\".\n",
    "  cleaned_amount = re.sub(r\"[^\\d\\-+\\.]\", \"\", amount_str)\n",
    "  return float(cleaned_amount)\n",
    "\n",
    "data['AMMOUNT'] = data['AMMOUNT'].apply(clean_amount)"
   ]
  },
  {
   "cell_type": "markdown",
   "metadata": {},
   "source": [
    "#### Getting The List of Files in Python Workspace"
   ]
  },
  {
   "cell_type": "code",
   "execution_count": null,
   "metadata": {},
   "outputs": [],
   "source": [
    "import os\n",
    "\n",
    "# Get the current working directory\n",
    "current_dir = os.getcwd()\n",
    "\n",
    "# List all files in the current directory (not including subdirectories)\n",
    "files = os.listdir(current_dir)\n",
    "\n",
    "# Print the list of files\n",
    "print(\"Files in current directory:\")\n",
    "for file in files:\n",
    "  print(file)"
   ]
  },
  {
   "cell_type": "code",
   "execution_count": 9,
   "metadata": {},
   "outputs": [],
   "source": [
    "def decode(message_file):\n",
    " \"\"\"\n",
    " Reads an encoded message from a .txt file and returns its decoded version.\n",
    "\n",
    " Args:\n",
    "   message_file (str): The path to the .txt file containing the encoded message.\n",
    "\n",
    " Returns:\n",
    "   str: The decoded message string.\n",
    " \"\"\"\n",
    "\n",
    " message_dict = {}\n",
    " with open(message_file, 'r') as file:\n",
    "   for line in file:\n",
    "     number, word = line.strip().split()\n",
    "     message_dict[int(number)] = word\n",
    "\n",
    " pyramid_numbers = sorted(message_dict.keys())\n",
    " decoded_message = ' '.join(message_dict[number] for number in pyramid_numbers if number == 1 or number == pyramid_numbers[-i] for i in range(1, len(pyramid_numbers) + 1))\n",
    "\n",
    " return pyramid_numbers"
   ]
  },
  {
   "cell_type": "code",
   "execution_count": 10,
   "metadata": {},
   "outputs": [
    {
     "data": {
      "text/plain": [
       "[1, 2, 3, 4, 6]"
      ]
     },
     "execution_count": 10,
     "metadata": {},
     "output_type": "execute_result"
    }
   ],
   "source": [
    "decode('message.txt')"
   ]
  },
  {
   "cell_type": "code",
   "execution_count": 20,
   "metadata": {},
   "outputs": [
    {
     "name": "stdout",
     "output_type": "stream",
     "text": [
      "I like cake "
     ]
    }
   ],
   "source": [
    "def do_triangle(max_number):\n",
    "    \"\"\"Print numbers and return end of line numbers.\"\"\"\n",
    "    count = 0  # Initialise value\n",
    "    line_length = 0  # Initialise line number\n",
    "    triangle_numbers = []  # Initialise list of triangular numbers\n",
    "    while True:\n",
    "        line_length += 1  # Next line\n",
    "        for _ in range(line_length):\n",
    "            count += 1  # Next number\n",
    "            #print(count, end=' ')\n",
    "        #print()  # Start new line\n",
    "        # Add the current count (end of line) to the list.\n",
    "        triangle_numbers.append(count)\n",
    "        # Stop at end of line when count >= max_number.\n",
    "        if count >= max_number:\n",
    "            return triangle_numbers\n",
    "\n",
    "\n",
    "# Map words to numbers with a dictionary\n",
    "word_map = {}\n",
    "with open(message_file, 'r') as file:\n",
    "    for line in file:\n",
    "        number, word = line.strip().split()\n",
    "        word_map[int(number)] = word\n",
    "#word_map = {2: 'orange', 6: 'cake', 4: 'thread', 1: 'I', 5: 'piano', 3: 'like'}\n",
    "\n",
    "# Look up each triangular number in word_map\n",
    "for i in do_triangle(len(word_map)):\n",
    "    # and print it (with a space at the end).\n",
    "    print(word_map.get(i), end=' ')"
   ]
  },
  {
   "cell_type": "code",
   "execution_count": null,
   "metadata": {},
   "outputs": [],
   "source": [
    "def do_triangle(message_file):\n",
    "    \"\"\"\n",
    "    Reads an encoded message from a .txt file and returns its decoded version.\n",
    "\n",
    "    Args:\n",
    "    message_file (str): The path to the .txt file containing the encoded message.\n",
    "\n",
    "    Returns:\n",
    "    str: The decoded message string. \n",
    "    \n",
    "    Print numbers and return end of line numbers.\"\"\"\n",
    "    # Extract value from text file\n",
    "    word_map = {}\n",
    "    with open(message_file, 'r') as file:\n",
    "        for line in file:\n",
    "            number, word = line.strip().split()\n",
    "            word_map[int(number)] = word\n",
    "\n",
    "    max_number= len(word_map)\n",
    "    count = 0  # Initialise value\n",
    "    line_length = 0  # Initialise line number\n",
    "    triangle_numbers = []  # Initialise list of triangular numbers\n",
    "    while True:\n",
    "        line_length += 1  # Next line\n",
    "        for _ in range(line_length):\n",
    "            count += 1  # Next number\n",
    "            #print(count, end=' ')\n",
    "        #print()  # Start new line\n",
    "        # Add the current count (end of line) to the list.\n",
    "        triangle_numbers.append(count)\n",
    "        # Stop at end of line when count >= max_number.\n",
    "        if count >= max_number:\n",
    "            return triangle_numbers\n",
    "\n",
    "\n",
    "# Map words to numbers with a dictionary\n",
    "\n",
    "#word_map = {2: 'orange', 6: 'cake', 4: 'thread', 1: 'I', 5: 'piano', 3: 'like'}\n",
    "\n",
    "# Look up each triangular number in word_map\n",
    "for i in do_triangle(len(word_map)):\n",
    "    # and print it (with a space at the end).\n",
    "    print(word_map.get(i), end=' ')"
   ]
  },
  {
   "cell_type": "code",
   "execution_count": 32,
   "metadata": {},
   "outputs": [
    {
     "name": "stdout",
     "output_type": "stream",
     "text": [
      "I love computers "
     ]
    }
   ],
   "source": [
    "def do_triangle(max_number):\n",
    "    \"\"\"Print numbers and return end of line numbers.\"\"\"\n",
    "    count = 0  # Initialise value\n",
    "    line_length = 0  # Initialise line number\n",
    "    triangle_numbers = []  # Initialise list of triangular numbers\n",
    "    while True:\n",
    "        line_length += 1  # Next line\n",
    "        for _ in range(line_length):\n",
    "            count += 1  # Next number\n",
    "            #print(count, end=' ')\n",
    "        #print()  # Start new line\n",
    "        # Add the current count (end of line) to the list.\n",
    "        triangle_numbers.append(count)\n",
    "        # Stop at end of line when count >= max_number.\n",
    "        if count >= max_number:\n",
    "            return triangle_numbers\n",
    "\n",
    "def extract_to_dictionary(message_file):\n",
    "  \"\"\"\n",
    "  Extracts key-value pairs from a .txt file and returns a dictionary.\n",
    "\n",
    "  Args:\n",
    "    message_file (str): The path to the .txt file.\n",
    "\n",
    "  Returns:\n",
    "    dict: A dictionary where keys are integers and values are strings.\n",
    "  \"\"\"\n",
    "  message_dict = {}\n",
    "  with open(message_file, 'r') as file:\n",
    "    for line in file:\n",
    "      try:\n",
    "        number, word = line.strip().split()\n",
    "        message_dict[int(number)] = word\n",
    "      except ValueError:  # Handles lines without a valid number-word pair\n",
    "        pass\n",
    "\n",
    "  return message_dict\n",
    "\n",
    "# Map words to numbers with a dictionary\n",
    "word_map = extract_to_dictionary('message.txt')\n",
    "\n",
    "# Look up each triangular number in word_map\n",
    "for i in do_triangle(len(word_map)):\n",
    "    # and print it (with a space at the end).\n",
    "    print(word_map.get(i), end=' ')"
   ]
  },
  {
   "cell_type": "code",
   "execution_count": 76,
   "metadata": {},
   "outputs": [],
   "source": [
    "def decode_message(message_file):\n",
    "    \"\"\"\n",
    "    Extracts key-value pairs from a message file, generates triangular numbers,\n",
    "    and prints the corresponding words from the file.\n",
    "\n",
    "    Args:\n",
    "        message_file (str): The path to the .txt file containing the encoded message.\n",
    "    \"\"\"\n",
    "    message_dict = {}\n",
    "    count = 0\n",
    "    line_length = 0\n",
    "\n",
    "    with open(message_file, 'r') as file:\n",
    "        for line in file:\n",
    "            try:\n",
    "                number, word = line.strip().split()\n",
    "                message_dict[int(number)] = word\n",
    "            except ValueError:\n",
    "                pass\n",
    "\n",
    "    count = 0  # Initialise value\n",
    "    line_length = 0  # Initialise line number\n",
    "    triangle_numbers = []  # Initialise list of triangular numbers\n",
    "    max_number = len(message_dict)\n",
    "    while count < max_number:\n",
    "        line_length += 1  # Next line\n",
    "        for _ in range(line_length):\n",
    "            count += 1  # Next number\n",
    "            #print(count, end=' ')\n",
    "        #print()  # Start new line\n",
    "        # Add the current count (end of line) to the list.\n",
    "        triangle_numbers.append(count)\n",
    "        # Stop at end of line when count >= max_number.\n",
    "        if count >= len(message_dict):\n",
    "                        for i in do_triangle(len(word_map)):\n",
    "                # and print it (with a space at the end).\n",
    "                            print(word_map.get(i), end=' ')"
   ]
  },
  {
   "cell_type": "code",
   "execution_count": 71,
   "metadata": {},
   "outputs": [],
   "source": [
    "def decode_message(message_file):\n",
    "    \"\"\"\n",
    "    Extracts key-value pairs from a message file, generates triangular numbers,\n",
    "    and prints the corresponding words from the file.\n",
    "\n",
    "    Args:\n",
    "        message_file (str): The path to the .txt file containing the encoded message.\n",
    "    \"\"\"\n",
    "\n",
    "    message_dict = {}\n",
    "    count = 0\n",
    "    line_length = 0\n",
    "\n",
    "    with open(message_file, 'r') as file:\n",
    "        for line in file:\n",
    "            try:\n",
    "                number, word = line.strip().split()\n",
    "                message_dict[int(number)] = word\n",
    "            except ValueError:\n",
    "                pass\n",
    "\n",
    "    \n",
    "\n",
    "    # Print words using triangular numbers\n",
    "    for num in triangle_numbers:\n",
    "        word = message_dict.get(num)\n",
    "        if word:\n",
    "            print(word, end=' ')\n",
    "\n",
    "    print()  # Print a newline at the end"
   ]
  },
  {
   "cell_type": "code",
   "execution_count": 77,
   "metadata": {},
   "outputs": [
    {
     "name": "stdout",
     "output_type": "stream",
     "text": [
      "I love computers "
     ]
    }
   ],
   "source": [
    "decode_message('message.txt')"
   ]
  }
 ],
 "metadata": {
  "kernelspec": {
   "display_name": "Python 3",
   "language": "python",
   "name": "python3"
  },
  "language_info": {
   "codemirror_mode": {
    "name": "ipython",
    "version": 3
   },
   "file_extension": ".py",
   "mimetype": "text/x-python",
   "name": "python",
   "nbconvert_exporter": "python",
   "pygments_lexer": "ipython3",
   "version": "3.10.13"
  }
 },
 "nbformat": 4,
 "nbformat_minor": 2
}
