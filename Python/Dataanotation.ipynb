{
 "cells": [
  {
   "cell_type": "markdown",
   "metadata": {},
   "source": [
    "# Coding Exercise: Decoding a Message from a Text File\n",
    "\n",
    "In this exercise, you will develop a function named decode(message_file). This function should read an encoded message from a .txt file and return its decoded version as a string.\n",
    "\n",
    "Note that you can write your code using any language and IDE you want (Python is preferred if possible, but not mandatory).\n",
    "\n",
    "Your function must be able to process an input file with the following format:\n",
    "\n",
    "3 love  \n",
    "6 computers  \n",
    "2 dogs  \n",
    "4 cats  \n",
    "1 I  \n",
    "5 you\n",
    "\n",
    "In this file, each line contains a number followed by a word. The task is to decode a hidden message based on the arrangement of these numbers into a \"pyramid\" structure. The numbers are placed into the pyramid in ascending order, with each line of the pyramid having one more number than the line above it. The smallest number is 1, and the numbers increase consecutively, like so:\n",
    "\n",
    "  1  \n",
    "  \n",
    " 2 3  \n",
    "\n",
    "4 5 6  \n",
    "\n",
    "The key to decoding the message is to use the words corresponding to the numbers at the end of each pyramid line (in this example, 1, 3, and 6). You should ignore all the other words. So for the example input file above, the message words are:\n",
    "\n",
    "1: I  \n",
    "\n",
    "3: love  \n",
    "\n",
    "6: computers\n",
    "\n",
    "and your function should return the string \"I love computers\"."
   ]
  },
  {
   "cell_type": "code",
   "execution_count": 5,
   "metadata": {},
   "outputs": [],
   "source": [
    "def decode_message(message_file):\n",
    "    \"\"\"\n",
    "    Extracts key-value pairs from a message file, generates triangular numbers,\n",
    "    and prints the corresponding words from the file.\n",
    "\n",
    "    Args:\n",
    "        message_file (str): The path to the .txt file containing the encoded message.\n",
    "    \"\"\"\n",
    "    message_dict = {}\n",
    "    count = 0\n",
    "    line_length = 0\n",
    "\n",
    "    with open(message_file, 'r') as file:\n",
    "        for line in file:\n",
    "            try:\n",
    "                number, word = line.strip().split()\n",
    "                message_dict[int(number)] = word\n",
    "            except ValueError:\n",
    "                pass\n",
    "\n",
    "    count = 0  # Initialise value\n",
    "    line_length = 0  # Initialise line number\n",
    "    triangle_numbers = []  # Initialise list of triangular numbers\n",
    "    max_number = len(message_dict)\n",
    "    while count < max_number:\n",
    "        line_length += 1  # Next line\n",
    "        for _ in range(line_length):\n",
    "            count += 1  # Next number\n",
    "            #print(count, end=' ')\n",
    "        #print()  # Start new line\n",
    "        # Add the current count (end of line) to the list.\n",
    "        triangle_numbers.append(count)\n",
    "        # Stop at end of line when count >= max_number.\n",
    "        if count >= len(message_dict):\n",
    "                        for i in triangle_numbers:\n",
    "                # and print it (with a space at the end).\n",
    "                            print(message_dict.get(i), end=' ')"
   ]
  },
  {
   "cell_type": "code",
   "execution_count": 6,
   "metadata": {},
   "outputs": [
    {
     "name": "stdout",
     "output_type": "stream",
     "text": [
      "I love computers "
     ]
    }
   ],
   "source": [
    "decode_message('message.txt')"
   ]
  }
 ],
 "metadata": {
  "kernelspec": {
   "display_name": "Python 3",
   "language": "python",
   "name": "python3"
  },
  "language_info": {
   "codemirror_mode": {
    "name": "ipython",
    "version": 3
   },
   "file_extension": ".py",
   "mimetype": "text/x-python",
   "name": "python",
   "nbconvert_exporter": "python",
   "pygments_lexer": "ipython3",
   "version": "3.10.13"
  }
 },
 "nbformat": 4,
 "nbformat_minor": 2
}
