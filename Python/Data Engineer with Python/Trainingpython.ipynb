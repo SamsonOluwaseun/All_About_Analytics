{
 "cells": [
  {
   "cell_type": "markdown",
   "metadata": {},
   "source": [
    "### Conditionals"
   ]
  },
  {
   "cell_type": "code",
   "execution_count": 7,
   "metadata": {},
   "outputs": [
    {
     "name": "stdout",
     "output_type": "stream",
     "text": [
      "X is equal to 0\n"
     ]
    }
   ],
   "source": [
    "x=0\n",
    "if x > 1:\n",
    "    print(\"X is bigger than 1\")\n",
    "elif x>0:\n",
    "    print (\"X is greater than 0\")\n",
    "elif x==0:\n",
    "    print(\"X is equal to 0\")\n",
    "else:\n",
    "    print(\"X is not bigger than 1\")"
   ]
  },
  {
   "cell_type": "code",
   "execution_count": 8,
   "metadata": {},
   "outputs": [
    {
     "name": "stdout",
     "output_type": "stream",
     "text": [
      "X is not between 0 and 12\n"
     ]
    }
   ],
   "source": [
    "## And statement\n",
    "x=13\n",
    "if x > 0 and x < 12 and x!= 5:\n",
    "    print(\"X is between 0 and 12 and X is not 5\")\n",
    "else:\n",
    "    print(\"X is not between 0 and 12 or may be 5\")"
   ]
  },
  {
   "cell_type": "code",
   "execution_count": 9,
   "metadata": {},
   "outputs": [
    {
     "name": "stdout",
     "output_type": "stream",
     "text": [
      "X is between 0 and 12\n"
     ]
    }
   ],
   "source": [
    "## or statement\n",
    "x=15\n",
    "if x > 0 or x < 12:\n",
    "    print(\"X is between 0 and 12\")\n",
    "else:\n",
    "    print(\"X is not between 0 and 12\")"
   ]
  },
  {
   "cell_type": "code",
   "execution_count": 2,
   "metadata": {},
   "outputs": [
    {
     "name": "stdout",
     "output_type": "stream",
     "text": [
      "X is between 0 and 12 and X may be 5\n"
     ]
    }
   ],
   "source": [
    "## And statement\n",
    "x=5\n",
    "if (x > 0 and x < 12) and x== 5:\n",
    "    print(\"X is between 0 and 12 and X may be 5\")\n",
    "else:\n",
    "    print(\"X is not between 0 and 12 or is not 5\")"
   ]
  },
  {
   "cell_type": "markdown",
   "metadata": {},
   "source": [
    "### List\n",
    "This are collection of items that are editable"
   ]
  },
  {
   "cell_type": "code",
   "execution_count": 6,
   "metadata": {},
   "outputs": [
    {
     "name": "stdout",
     "output_type": "stream",
     "text": [
      "[5, 3, 1]\n"
     ]
    }
   ],
   "source": [
    "lst=[1,2,3,4,5]\n",
    "el= lst[-1]  # It starts from 0, and i can reverse using -1 to start from the back, I can reverse all with [::-1]\n",
    "el5= lst[-1] # or lst[4]\n",
    "rev=lst[::-1] # Reversed with 1 step\n",
    "rev2=lst[::-2] # Reversed with 2 steps\n",
    "print (rev2)"
   ]
  },
  {
   "cell_type": "code",
   "execution_count": 9,
   "metadata": {},
   "outputs": [
    {
     "name": "stdout",
     "output_type": "stream",
     "text": [
      "[1, 2, 3, 4, 5, 6, 6]\n",
      "[1, 8, 2, 3, 4, 5, 6, 6]\n"
     ]
    }
   ],
   "source": [
    "### List Append\n",
    "lst.append(6)\n",
    "print(lst)\n"
   ]
  },
  {
   "cell_type": "code",
   "execution_count": null,
   "metadata": {},
   "outputs": [],
   "source": [
    "## Insert into list based on position\n",
    "lst.insert(1,8) # 8 in the second position\n",
    "print(lst)"
   ]
  },
  {
   "cell_type": "code",
   "execution_count": 10,
   "metadata": {},
   "outputs": [
    {
     "name": "stdout",
     "output_type": "stream",
     "text": [
      "[1, 2, 3, 4, 5, 6, 7]\n"
     ]
    }
   ],
   "source": [
    "lst_a= [1,2,3,4]\n",
    "lst_b= [5,6,7]\n",
    "lst_a.extend(lst_b)\n",
    "print(lst_a)"
   ]
  },
  {
   "cell_type": "code",
   "execution_count": 12,
   "metadata": {},
   "outputs": [
    {
     "name": "stdout",
     "output_type": "stream",
     "text": [
      "2\n"
     ]
    }
   ],
   "source": [
    "## Get the index position of item from a list\n",
    "index_of_el=lst_a.index(3)\n",
    "print(index_of_el)"
   ]
  },
  {
   "cell_type": "code",
   "execution_count": 13,
   "metadata": {},
   "outputs": [
    {
     "name": "stdout",
     "output_type": "stream",
     "text": [
      "1\n"
     ]
    }
   ],
   "source": [
    "# Know the count of specific elements in the list\n",
    "cnt_2= lst_a.count(2)\n",
    "print(cnt_2)"
   ]
  },
  {
   "cell_type": "code",
   "execution_count": 14,
   "metadata": {},
   "outputs": [
    {
     "name": "stdout",
     "output_type": "stream",
     "text": [
      "[1, 2, 3, 5, 6, 7]\n",
      "[2, 3, 5, 6, 7]\n"
     ]
    }
   ],
   "source": [
    "## Remove element with Remove \n",
    "lst_a.remove(4) # Remove element 4\n",
    "print(lst_a)\n",
    "\n",
    "## Remove element with index position\n",
    "lst_a.pop(0) # Remove element at position 0\n",
    "print(lst_a)"
   ]
  },
  {
   "cell_type": "code",
   "execution_count": 18,
   "metadata": {},
   "outputs": [
    {
     "name": "stdout",
     "output_type": "stream",
     "text": [
      "0\n",
      "0\n",
      "[]\n"
     ]
    }
   ],
   "source": [
    "print(len(lst_a))\n",
    "## You can perform arithmentic on list items\n",
    "print(sum(lst_a))\n",
    "\n",
    "#You can clear with clear method\n",
    "lst_a.clear()\n",
    "print(lst_a)"
   ]
  },
  {
   "cell_type": "code",
   "execution_count": 20,
   "metadata": {},
   "outputs": [
    {
     "name": "stdout",
     "output_type": "stream",
     "text": [
      "[1, 2, 3, 4, 5, 6, 7]\n",
      "[7, 6, 5, 4, 3, 2, 1]\n"
     ]
    }
   ],
   "source": [
    "# Sorting List for numbers and alphabets\n",
    "lst_a= [1, 3, 4, 5, 6, 7,2]\n",
    "print(sorted(lst_a))\n",
    "\n",
    "# In decending order\n",
    "print(sorted(lst_a)[::-1])"
   ]
  },
  {
   "cell_type": "markdown",
   "metadata": {},
   "source": [
    "## Functions\n",
    "def: Definition"
   ]
  },
  {
   "cell_type": "code",
   "execution_count": 21,
   "metadata": {},
   "outputs": [
    {
     "name": "stdout",
     "output_type": "stream",
     "text": [
      "9\n"
     ]
    }
   ],
   "source": [
    "def squared(x: int):\n",
    "    ''' \n",
    "    :param X: int\n",
    "    :returns y: int square of x\n",
    "    '''\n",
    "    y=x**2\n",
    "    return y\n",
    "print(squared(3))"
   ]
  },
  {
   "cell_type": "code",
   "execution_count": 22,
   "metadata": {},
   "outputs": [
    {
     "name": "stdout",
     "output_type": "stream",
     "text": [
      "9\n"
     ]
    }
   ],
   "source": [
    "def pow(x,tm):\n",
    "    return x ** tm\n",
    "print(pow(3,2))"
   ]
  },
  {
   "cell_type": "code",
   "execution_count": 28,
   "metadata": {},
   "outputs": [
    {
     "name": "stdout",
     "output_type": "stream",
     "text": [
      "True\n"
     ]
    },
    {
     "ename": "AssertionError",
     "evalue": "There is a mistake with the function",
     "output_type": "error",
     "traceback": [
      "\u001b[0;31m---------------------------------------------------------------------------\u001b[0m",
      "\u001b[0;31mAssertionError\u001b[0m                            Traceback (most recent call last)",
      "Cell \u001b[0;32mIn[28], line 6\u001b[0m\n\u001b[1;32m      4\u001b[0m \u001b[38;5;66;03m#Assert method\u001b[39;00m\n\u001b[1;32m      5\u001b[0m \u001b[38;5;28;01massert\u001b[39;00m \u001b[38;5;28mpow\u001b[39m(\u001b[38;5;241m3\u001b[39m,\u001b[38;5;241m2\u001b[39m)\u001b[38;5;241m==\u001b[39m squared(\u001b[38;5;241m3\u001b[39m) , \u001b[38;5;124m\"\u001b[39m\u001b[38;5;124mThere is a mistake with the function\u001b[39m\u001b[38;5;124m\"\u001b[39m\n\u001b[0;32m----> 6\u001b[0m \u001b[38;5;28;01massert\u001b[39;00m \u001b[38;5;28mpow\u001b[39m(\u001b[38;5;241m3\u001b[39m,\u001b[38;5;241m2\u001b[39m)\u001b[38;5;241m==\u001b[39m squared(\u001b[38;5;241m4\u001b[39m) , \u001b[38;5;124m\"\u001b[39m\u001b[38;5;124mThere is a mistake with the function\u001b[39m\u001b[38;5;124m\"\u001b[39m\n",
      "\u001b[0;31mAssertionError\u001b[0m: There is a mistake with the function"
     ]
    }
   ],
   "source": [
    "#Test functions\n",
    "print(pow(3,2)== squared(3))\n",
    "\n",
    "#Assert method\n",
    "assert pow(3,2)== squared(3) , \"There is a mistake with the function\"\n",
    "assert pow(3,2)== squared(4) , \"There is a mistake with the function\""
   ]
  },
  {
   "cell_type": "code",
   "execution_count": 4,
   "metadata": {},
   "outputs": [
    {
     "name": "stdout",
     "output_type": "stream",
     "text": [
      "12\n"
     ]
    }
   ],
   "source": [
    "## Assessment\n",
    "#Find the Maximum\n",
    "# Find the Maximum Number in a List Description: Write a function that takes a list of numbers as input and returns the maximum number in the list. Input: [5, 9, 2, 12, 7] Output: 12\n",
    "# If the argument is empty or None return None: Input: [] Output: None\n",
    "\n",
    "#Solution\n",
    "def find_max_number(numbers):\n",
    "    return max(numbers) if numbers else None\n",
    "\n",
    "my_number= [5, 9, 2, 12, 7]\n",
    "print(find_max_number(my_number))"
   ]
  },
  {
   "cell_type": "code",
   "execution_count": 2,
   "metadata": {},
   "outputs": [
    {
     "data": {
      "text/plain": [
       "'Hello, Seun! You are 35 years old.'"
      ]
     },
     "execution_count": 2,
     "metadata": {},
     "output_type": "execute_result"
    }
   ],
   "source": [
    "#Basic String Manipulation\n",
    "# Write a function called greet that takes two arguments: name (a string) and age (an integer). \n",
    "# The function should return a string message in the format \"Hello, [name]! You are [age] years old.\"\n",
    "\n",
    "def greet(name: str, age: int) -> str:\n",
    "    # Do something here\n",
    "  return f'Hello, {name}! You are {age} years old.'\n",
    "    # here you should return the final string \"Hello, [name]! You are [age] years old.\"\n",
    "    \n",
    "greet(\"Seun\",35)"
   ]
  },
  {
   "cell_type": "code",
   "execution_count": 3,
   "metadata": {},
   "outputs": [
    {
     "data": {
      "text/plain": [
       "True"
      ]
     },
     "execution_count": 3,
     "metadata": {},
     "output_type": "execute_result"
    }
   ],
   "source": [
    "# Even or Odd\n",
    "# Write a function called is_even that takes a number as an argument and returns True if it's even, and False otherwise\n",
    "def is_even(num):\n",
    "    # Do some checks with num\n",
    "    return num % 2 == 0# True | False\n",
    "\n",
    "is_even(2)"
   ]
  },
  {
   "cell_type": "code",
   "execution_count": 4,
   "metadata": {},
   "outputs": [
    {
     "data": {
      "text/plain": [
       "120"
      ]
     },
     "execution_count": 4,
     "metadata": {},
     "output_type": "execute_result"
    }
   ],
   "source": [
    "#Calculate the Factorial\n",
    "#Write a function called factorial that takes a positive integer as an argument and returns its factorial.\n",
    "def factorial(n):\n",
    "    result = 1\n",
    "    for i in range(1, n+1):\n",
    "        result *= i\n",
    "    return result\n",
    "factorial(5)"
   ]
  },
  {
   "cell_type": "markdown",
   "metadata": {},
   "source": [
    "## For Loop"
   ]
  },
  {
   "cell_type": "code",
   "execution_count": 1,
   "metadata": {},
   "outputs": [
    {
     "name": "stdout",
     "output_type": "stream",
     "text": [
      "1\n",
      "2\n",
      "3\n",
      "4\n",
      "5\n",
      "6\n",
      "7\n",
      "8\n"
     ]
    }
   ],
   "source": [
    "## For Loop\n",
    "lst= [1,2,3,4,5,6,7,8]\n",
    "for i in lst:\n",
    "    print(i)"
   ]
  },
  {
   "cell_type": "code",
   "execution_count": 3,
   "metadata": {},
   "outputs": [
    {
     "name": "stdout",
     "output_type": "stream",
     "text": [
      "1\n",
      "4\n",
      "9\n",
      "16\n",
      "25\n",
      "36\n",
      "49\n",
      "64\n"
     ]
    }
   ],
   "source": [
    "for i in range(1,9):\n",
    "    print(i ** 2) # 9 is not included"
   ]
  },
  {
   "cell_type": "code",
   "execution_count": 7,
   "metadata": {},
   "outputs": [
    {
     "name": "stdout",
     "output_type": "stream",
     "text": [
      "Number is found!\n"
     ]
    }
   ],
   "source": [
    "number_to_search=7\n",
    "for i in lst:\n",
    "    if i == number_to_search:\n",
    "        print(\"Number is found!\")\n",
    "        break\n",
    "else:\n",
    "    print(\"Element not found\")\n",
    "         \n"
   ]
  },
  {
   "cell_type": "code",
   "execution_count": 4,
   "metadata": {},
   "outputs": [
    {
     "name": "stdout",
     "output_type": "stream",
     "text": [
      "1\n",
      "2\n",
      "3\n",
      "4\n",
      "5\n",
      "6\n",
      "7\n",
      "8\n"
     ]
    }
   ],
   "source": [
    "#While\n",
    "Counter = 0\n",
    "while Counter<len(lst):\n",
    "    print(lst[Counter])\n",
    "    Counter +=1"
   ]
  },
  {
   "cell_type": "markdown",
   "metadata": {},
   "source": [
    "## Tupples\n",
    "1. they are immutable\n",
    "2. it takes less memory"
   ]
  },
  {
   "cell_type": "code",
   "execution_count": 10,
   "metadata": {},
   "outputs": [
    {
     "name": "stdout",
     "output_type": "stream",
     "text": [
      "3\n",
      "(4, 5, 6, 6)\n"
     ]
    }
   ],
   "source": [
    "tpl= (1,2,3,4,5,6)\n",
    "# tpl[0]=3 error\n",
    "# tpl +=(6,7,8) to add element\n",
    "print(tpl.index(4))\n",
    "print(tpl[3:7])"
   ]
  },
  {
   "cell_type": "code",
   "execution_count": 1,
   "metadata": {},
   "outputs": [],
   "source": [
    "# Set\n",
    "# Using curly braces\n",
    "my_set = {1, 2, 3, 4}\n",
    " \n",
    "    # Using the set() constructor\n",
    "another_set = set([4, 5, 6, 7])"
   ]
  },
  {
   "cell_type": "code",
   "execution_count": 2,
   "metadata": {},
   "outputs": [
    {
     "data": {
      "text/plain": [
       "6"
      ]
     },
     "execution_count": 2,
     "metadata": {},
     "output_type": "execute_result"
    }
   ],
   "source": [
    "#Find Unique Elements\n",
    "#Find the number of unique elements of a list: In: [1,3,4,5,6,7] Out: 6  In: [1,1,3,4,5,5,6,7] Out: 6 (1 and 5 are duplicated and should be counted once)\n",
    "def find_unique_elements(lst):\n",
    "    return len(set(lst))\n",
    "\n",
    "lst=[1,1,3,4,5,5,6,7]\n",
    "find_unique_elements(lst)"
   ]
  },
  {
   "cell_type": "code",
   "execution_count": null,
   "metadata": {},
   "outputs": [],
   "source": [
    "#Reverse a String\n",
    "# Create a function called reverse_string that takes a string as input and returns a new string with its characters reversed. Your function should use only built-in Python tools.\n",
    "def reverse_string(input_string):\n",
    "    # Your code here\n",
    "    return(input_string[::-1])"
   ]
  },
  {
   "cell_type": "code",
   "execution_count": 1,
   "metadata": {},
   "outputs": [
    {
     "data": {
      "text/plain": [
       "True"
      ]
     },
     "execution_count": 1,
     "metadata": {},
     "output_type": "execute_result"
    }
   ],
   "source": [
    "#Check Palindrome\n",
    "# Write a function called is_palindrome that takes a string as an argument and returns True if it's a palindrome, and False otherwise. \n",
    "#A palindrome is a word, number, phrase, or other sequence of symbols that reads the same backward as forwards, such as madam or racecar.\n",
    "def is_palindrome(string):\n",
    "    return string == string[::-1]\n",
    "\n",
    "wrd=\"racecar\"\n",
    "is_palindrome(wrd)"
   ]
  },
  {
   "cell_type": "code",
   "execution_count": null,
   "metadata": {},
   "outputs": [],
   "source": [
    "# Calculate Sum of Digits\n",
    "# Write a function called sum_of_digits that takes a positive integer as an argument and returns the sum of its digits.\n",
    "def sum_of_digits(num: int):\n",
    "    # num will be an integer\n",
    "    return sum(int(digit) for digit in str(num))"
   ]
  },
  {
   "cell_type": "code",
   "execution_count": null,
   "metadata": {},
   "outputs": [],
   "source": [
    "#Fibonacci Series\n",
    "#Write a program that generates the Fibonacci series up to a given number 'n'.\n",
    "#fibonacci(0) -> []\n",
    "#fibonacci(10) -> [0, 1, 1, 2, 3, 5, 8]\n",
    "#fibonacci(23) -> [0, 1, 1, 2, 3, 5, 8, 13, 21]\n",
    "def fibonacci(n):\n",
    "    fib_series = []\n",
    "    # your code here\n",
    "    a, b = 0, 1\n",
    "    while a <= n:\n",
    "        fib_series.append(a)\n",
    "        a, b = b, a + b\n",
    "    return fib_series if n!= 0 else []\n",
    "    return fib_series"
   ]
  },
  {
   "cell_type": "code",
   "execution_count": null,
   "metadata": {},
   "outputs": [],
   "source": [
    "# Find the Nth Fibonacci Number\n",
    "# Create a function called find_fibonacci that takes a non-negative integer n as input and returns the n-th Fibonacci number. The Fibonacci sequence is a series of numbers where each number is the sum of the two preceding ones, usually starting with 0 and 1. Your function should use only built-in Python tools.\n",
    "def find_fibonacci(n):\n",
    "    # Your code here\n",
    "    if n == 0:\n",
    "        return 0\n",
    "    elif n == 1:\n",
    "        return 1\n",
    "    else:\n",
    "        a, b = 0, 1\n",
    "        for _ in range(2, n + 1):\n",
    "            a, b = b, a + b\n",
    "        return b\n"
   ]
  },
  {
   "cell_type": "code",
   "execution_count": 2,
   "metadata": {},
   "outputs": [],
   "source": [
    "#Check for Prime Numbers\n",
    "# Create a function called is_prime that takes an integer as input and returns True if the number is prime and False otherwise. \n",
    "# Your function should use only built-in Python tools.\n",
    "def is_prime(number):\n",
    "    if number <= 1:\n",
    "        return False\n",
    "    elif number == 2:\n",
    "        return True\n",
    "    elif number % 2 == 0:\n",
    "        return False\n",
    "    else:\n",
    "        for i in range(3, int(number ** 0.5) + 1, 2):\n",
    "            if number % i == 0:\n",
    "                return False\n",
    "        return True"
   ]
  },
  {
   "cell_type": "code",
   "execution_count": null,
   "metadata": {},
   "outputs": [],
   "source": [
    "#Count Primes\n",
    "#Description: Write a function that takes an integer n as input and returns the count of prime numbers less than n. \n",
    "#Input: 10 Output: 4 (Primes less than 10: 2, 3, 5, 7)\n",
    "def count_primes(n):\n",
    "    if n < 2:\n",
    "        return 0\n",
    "    \n",
    "    primes = [True] * n\n",
    "    primes[0] = primes[1] = False\n",
    "    \n",
    "    for i in range(2, int(n ** 0.5) + 1):\n",
    "        if primes[i]:\n",
    "            for j in range(i * i, n, i):\n",
    "                primes[j] = False\n",
    "    \n",
    "    count = sum(primes)\n",
    "    return count"
   ]
  },
  {
   "cell_type": "code",
   "execution_count": null,
   "metadata": {},
   "outputs": [],
   "source": [
    "# Calculate Average\n",
    "# Write a Python program that calculates the average of a list of numbers.\n",
    "# In:  [5, 10, 15, 20]\n",
    "# Out:  12.5\n",
    "# If the list is empty, return 0\n",
    "def calculate_average(numbers):\n",
    "    if len(numbers) == 0:\n",
    "        return 0  # To handle an empty list and avoid division by zero\n",
    " \n",
    "    total = sum(numbers)\n",
    "    average = total / len(numbers)\n",
    "    return average\n"
   ]
  },
  {
   "cell_type": "code",
   "execution_count": null,
   "metadata": {},
   "outputs": [],
   "source": [
    "#Count Occurrences in a List\n",
    "#Write a Python function that takes a list of numbers and a target number, and it returns the count of how many times the target number appears in the list.\n",
    "#In: ([1, 2, 3, 4, 2, 2, 5], 2)\n",
    "#Out: 3\n",
    "def count_occurrences(numbers, target):\n",
    "    return numbers.count(target)\n"
   ]
  },
  {
   "cell_type": "code",
   "execution_count": null,
   "metadata": {},
   "outputs": [],
   "source": [
    "# Find the Missing Number\n",
    "# Create a function called find_missing_number that takes a list of distinct integers from 0 to n (inclusive), where n is one less than the length of the list, and returns the missing number from the list.\n",
    "# Your function should use only built-in Python tools.\n",
    "def find_missing_number(nums):\n",
    "    n = len(nums)\n",
    "    total_sum = (n * (n + 1)) // 2  # Sum of first n+1 natural numbers\n",
    " \n",
    "    return total_sum - sum(nums)"
   ]
  },
  {
   "cell_type": "code",
   "execution_count": null,
   "metadata": {},
   "outputs": [],
   "source": [
    "#Find Common Elements in Two Lists\n",
    "#Create a function called find_common_elements that takes two lists of integers as input and returns a list containing the common elements between the two input lists. \n",
    "#The order of elements in the resulting list does not matter. Your function should use only built-in Python tools.\n",
    "def find_common_elements(list1, list2):\n",
    "    return list(set(list1) & set(list2))"
   ]
  },
  {
   "cell_type": "code",
   "execution_count": null,
   "metadata": {},
   "outputs": [],
   "source": [
    "# Remove Duplicates from a List\n",
    "# Create a function called remove_duplicates that takes a list of elements as input and returns a new list with duplicates removed. \n",
    "#Your function should use only built-in Python tools and should maintain the original order of elements while removing duplicates.\n",
    "\n",
    "def remove_duplicates(input_list):\n",
    "    unique_list = []\n",
    "    for item in input_list:\n",
    "        if item not in unique_list:\n",
    "            unique_list.append(item)\n",
    "    return unique_list"
   ]
  },
  {
   "cell_type": "code",
   "execution_count": null,
   "metadata": {},
   "outputs": [],
   "source": [
    "#Count Occurrences of a Word\n",
    "#Create a function called count_word_occurrences that takes a string and a target word as input and returns the number of times the target word appears in the string. The function should not be case-sensitive, meaning it should count occurrences regardless of the word's case. \n",
    "#Your function should use only built-in Python tools.\n",
    "def count_word_occurrences(text, word):\n",
    "    text = text.lower()  # Convert the text to lowercase for case-insensitive matching\n",
    "    word = word.lower()  # Convert the target word to lowercase\n",
    "    return text.count(word) if text else 0"
   ]
  },
  {
   "cell_type": "code",
   "execution_count": null,
   "metadata": {},
   "outputs": [],
   "source": [
    "#Check Balanced Parentheses\n",
    "#Create a function called is_balanced_parentheses that takes a string containing only parentheses, brackets, and curly braces as input and returns True if the parentheses are balanced and False otherwise. \n",
    "# The parentheses are considered balanced if they are closed in the correct order. Your function should use only built-in Python tools.\n",
    "def is_balanced_parentheses(s):\n",
    "    stack = []\n",
    "    parentheses_mapping = {')': '(', ']': '[', '}': '{'}\n",
    " \n",
    "    for char in s:\n",
    "        if char in parentheses_mapping.values():\n",
    "            stack.append(char)\n",
    "        elif char in parentheses_mapping.keys():\n",
    "            if not stack or stack.pop() != parentheses_mapping[char]:\n",
    "                return False\n",
    "        else:\n",
    "            return False\n",
    " \n",
    "    return not stack\n",
    "\n"
   ]
  }
 ],
 "metadata": {
  "kernelspec": {
   "display_name": "Python 3",
   "language": "python",
   "name": "python3"
  },
  "language_info": {
   "codemirror_mode": {
    "name": "ipython",
    "version": 3
   },
   "file_extension": ".py",
   "mimetype": "text/x-python",
   "name": "python",
   "nbconvert_exporter": "python",
   "pygments_lexer": "ipython3",
   "version": "3.10.13"
  }
 },
 "nbformat": 4,
 "nbformat_minor": 2
}
